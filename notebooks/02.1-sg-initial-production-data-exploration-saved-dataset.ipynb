{
 "cells": [
  {
   "cell_type": "code",
   "execution_count": 47,
   "id": "2237c98d-c991-4f2e-940e-f92a15e75f7f",
   "metadata": {},
   "outputs": [],
   "source": [
    "import numpy as np\n",
    "import pandas as pd\n",
    "import matplotlib.pyplot as plt"
   ]
  },
  {
   "cell_type": "markdown",
   "id": "199ad442-1fb3-46c9-9387-54c79ff22485",
   "metadata": {},
   "source": [
    "# 1. Dataset Exploration\n",
    "\n",
    "In this notebook, we explore the saved dataset that is used for all the different experiments.\n",
    "\n",
    "For each run, we will no longer read all images and look at the skin ratio. \n",
    "\n",
    "## 1.1 Visualize csv file"
   ]
  },
  {
   "cell_type": "code",
   "execution_count": 66,
   "id": "0be41642-2704-46f9-96a9-2b9904d34dd0",
   "metadata": {},
   "outputs": [
    {
     "data": {
      "text/html": [
       "<div>\n",
       "<style scoped>\n",
       "    .dataframe tbody tr th:only-of-type {\n",
       "        vertical-align: middle;\n",
       "    }\n",
       "\n",
       "    .dataframe tbody tr th {\n",
       "        vertical-align: top;\n",
       "    }\n",
       "\n",
       "    .dataframe thead th {\n",
       "        text-align: right;\n",
       "    }\n",
       "</style>\n",
       "<table border=\"1\" class=\"dataframe\">\n",
       "  <thead>\n",
       "    <tr style=\"text-align: right;\">\n",
       "      <th></th>\n",
       "      <th>Unnamed: 0</th>\n",
       "      <th>pathBucketImage</th>\n",
       "      <th>labelledby</th>\n",
       "      <th>reviewedby</th>\n",
       "      <th>acne_comedos</th>\n",
       "      <th>acne_cystic</th>\n",
       "      <th>acne_mixed</th>\n",
       "      <th>acne_scars</th>\n",
       "      <th>acne_excoriated</th>\n",
       "      <th>rosacea_erythemato_telangiectasique</th>\n",
       "      <th>...</th>\n",
       "      <th>molluscum</th>\n",
       "      <th>folliculitis</th>\n",
       "      <th>melanonychia</th>\n",
       "      <th>nevus</th>\n",
       "      <th>lichen_planus</th>\n",
       "      <th>chelitis_actinic</th>\n",
       "      <th>cheilitis_eczematous</th>\n",
       "      <th>urticaria</th>\n",
       "      <th>unspecified</th>\n",
       "      <th>ratios</th>\n",
       "    </tr>\n",
       "  </thead>\n",
       "  <tbody>\n",
       "    <tr>\n",
       "      <th>0</th>\n",
       "      <td>0</td>\n",
       "      <td>resized/936/E617F7DF5F/ailment_photos/AP-cc6f0...</td>\n",
       "      <td>Guillemette Salomon</td>\n",
       "      <td>NaN</td>\n",
       "      <td>False</td>\n",
       "      <td>False</td>\n",
       "      <td>False</td>\n",
       "      <td>False</td>\n",
       "      <td>False</td>\n",
       "      <td>False</td>\n",
       "      <td>...</td>\n",
       "      <td>False</td>\n",
       "      <td>False</td>\n",
       "      <td>False</td>\n",
       "      <td>False</td>\n",
       "      <td>False</td>\n",
       "      <td>False</td>\n",
       "      <td>False</td>\n",
       "      <td>False</td>\n",
       "      <td>False</td>\n",
       "      <td>0.485989</td>\n",
       "    </tr>\n",
       "    <tr>\n",
       "      <th>1</th>\n",
       "      <td>2</td>\n",
       "      <td>resized/27727/4E12DB8B1F/ailment_photos/AP-f8e...</td>\n",
       "      <td>Guillemette Salomon</td>\n",
       "      <td>NaN</td>\n",
       "      <td>False</td>\n",
       "      <td>False</td>\n",
       "      <td>True</td>\n",
       "      <td>False</td>\n",
       "      <td>False</td>\n",
       "      <td>False</td>\n",
       "      <td>...</td>\n",
       "      <td>False</td>\n",
       "      <td>False</td>\n",
       "      <td>False</td>\n",
       "      <td>False</td>\n",
       "      <td>False</td>\n",
       "      <td>False</td>\n",
       "      <td>False</td>\n",
       "      <td>False</td>\n",
       "      <td>False</td>\n",
       "      <td>0.514150</td>\n",
       "    </tr>\n",
       "    <tr>\n",
       "      <th>2</th>\n",
       "      <td>3</td>\n",
       "      <td>resized/10000/1C02D39543/ailment_photos/AP-6a2...</td>\n",
       "      <td>Marc-Andre Dore</td>\n",
       "      <td>NaN</td>\n",
       "      <td>False</td>\n",
       "      <td>False</td>\n",
       "      <td>False</td>\n",
       "      <td>False</td>\n",
       "      <td>False</td>\n",
       "      <td>False</td>\n",
       "      <td>...</td>\n",
       "      <td>False</td>\n",
       "      <td>False</td>\n",
       "      <td>False</td>\n",
       "      <td>False</td>\n",
       "      <td>False</td>\n",
       "      <td>False</td>\n",
       "      <td>False</td>\n",
       "      <td>False</td>\n",
       "      <td>False</td>\n",
       "      <td>0.295201</td>\n",
       "    </tr>\n",
       "    <tr>\n",
       "      <th>3</th>\n",
       "      <td>4</td>\n",
       "      <td>resized/9371/AA7EC2BACF/ailment_photos/AP-d914...</td>\n",
       "      <td>Guillemette Salomon</td>\n",
       "      <td>NaN</td>\n",
       "      <td>False</td>\n",
       "      <td>False</td>\n",
       "      <td>False</td>\n",
       "      <td>False</td>\n",
       "      <td>False</td>\n",
       "      <td>False</td>\n",
       "      <td>...</td>\n",
       "      <td>True</td>\n",
       "      <td>False</td>\n",
       "      <td>False</td>\n",
       "      <td>False</td>\n",
       "      <td>False</td>\n",
       "      <td>False</td>\n",
       "      <td>False</td>\n",
       "      <td>False</td>\n",
       "      <td>False</td>\n",
       "      <td>0.400610</td>\n",
       "    </tr>\n",
       "    <tr>\n",
       "      <th>4</th>\n",
       "      <td>9</td>\n",
       "      <td>resized/27727/4E12DB8B1F/ailment_photos/AP-e51...</td>\n",
       "      <td>Guillemette Salomon</td>\n",
       "      <td>NaN</td>\n",
       "      <td>False</td>\n",
       "      <td>False</td>\n",
       "      <td>True</td>\n",
       "      <td>False</td>\n",
       "      <td>False</td>\n",
       "      <td>False</td>\n",
       "      <td>...</td>\n",
       "      <td>False</td>\n",
       "      <td>False</td>\n",
       "      <td>False</td>\n",
       "      <td>False</td>\n",
       "      <td>False</td>\n",
       "      <td>False</td>\n",
       "      <td>False</td>\n",
       "      <td>False</td>\n",
       "      <td>False</td>\n",
       "      <td>0.629365</td>\n",
       "    </tr>\n",
       "  </tbody>\n",
       "</table>\n",
       "<p>5 rows × 54 columns</p>\n",
       "</div>"
      ],
      "text/plain": [
       "   Unnamed: 0                                    pathBucketImage  \\\n",
       "0           0  resized/936/E617F7DF5F/ailment_photos/AP-cc6f0...   \n",
       "1           2  resized/27727/4E12DB8B1F/ailment_photos/AP-f8e...   \n",
       "2           3  resized/10000/1C02D39543/ailment_photos/AP-6a2...   \n",
       "3           4  resized/9371/AA7EC2BACF/ailment_photos/AP-d914...   \n",
       "4           9  resized/27727/4E12DB8B1F/ailment_photos/AP-e51...   \n",
       "\n",
       "            labelledby  reviewedby  acne_comedos  acne_cystic  acne_mixed  \\\n",
       "0  Guillemette Salomon         NaN         False        False       False   \n",
       "1  Guillemette Salomon         NaN         False        False        True   \n",
       "2      Marc-Andre Dore         NaN         False        False       False   \n",
       "3  Guillemette Salomon         NaN         False        False       False   \n",
       "4  Guillemette Salomon         NaN         False        False        True   \n",
       "\n",
       "   acne_scars  acne_excoriated  rosacea_erythemato_telangiectasique  ...  \\\n",
       "0       False            False                                False  ...   \n",
       "1       False            False                                False  ...   \n",
       "2       False            False                                False  ...   \n",
       "3       False            False                                False  ...   \n",
       "4       False            False                                False  ...   \n",
       "\n",
       "   molluscum  folliculitis  melanonychia  nevus  lichen_planus  \\\n",
       "0      False         False         False  False          False   \n",
       "1      False         False         False  False          False   \n",
       "2      False         False         False  False          False   \n",
       "3       True         False         False  False          False   \n",
       "4      False         False         False  False          False   \n",
       "\n",
       "   chelitis_actinic  cheilitis_eczematous  urticaria  unspecified    ratios  \n",
       "0             False                 False      False        False  0.485989  \n",
       "1             False                 False      False        False  0.514150  \n",
       "2             False                 False      False        False  0.295201  \n",
       "3             False                 False      False        False  0.400610  \n",
       "4             False                 False      False        False  0.629365  \n",
       "\n",
       "[5 rows x 54 columns]"
      ]
     },
     "execution_count": 66,
     "metadata": {},
     "output_type": "execute_result"
    }
   ],
   "source": [
    "df = pd.read_csv('gs://oro-ds-test-bucket/sdd_acne_files/dataset/dataset_0.2.csv')\n",
    "df.head(5)"
   ]
  },
  {
   "cell_type": "code",
   "execution_count": 67,
   "id": "790500e7-41a8-4db9-826d-23922a6c17ac",
   "metadata": {},
   "outputs": [
    {
     "name": "stdout",
     "output_type": "stream",
     "text": [
      "There are 21535 images in the dataset\n"
     ]
    }
   ],
   "source": [
    "print(f'There are {df.shape[0]} images in the dataset')"
   ]
  },
  {
   "cell_type": "code",
   "execution_count": 68,
   "id": "b25c948e-b397-4376-9b4a-0e3f8b0bfb1c",
   "metadata": {},
   "outputs": [
    {
     "name": "stdout",
     "output_type": "stream",
     "text": [
      "These are the labelers: ['Guillemette Salomon' 'Marc-Andre Dore']\n"
     ]
    }
   ],
   "source": [
    "print(f\"These are the labelers: {df['labelledby'].unique()}\")"
   ]
  },
  {
   "cell_type": "code",
   "execution_count": 69,
   "id": "d2953084-6e93-4829-9bd0-3ec7e484008b",
   "metadata": {},
   "outputs": [
    {
     "name": "stdout",
     "output_type": "stream",
     "text": [
      "These are the reviewers: ['Guillemette Salomon' 'Marc-Andre Dore']\n"
     ]
    }
   ],
   "source": [
    "print(f\"These are the reviewers: {df['labelledby'].unique()}\")"
   ]
  },
  {
   "cell_type": "code",
   "execution_count": 70,
   "id": "a92047bb-3081-4514-859e-e3469fe14e61",
   "metadata": {},
   "outputs": [
    {
     "name": "stdout",
     "output_type": "stream",
     "text": [
      "2020-12-23 00:00:00\n",
      "2021-03-08 00:00:00\n"
     ]
    }
   ],
   "source": [
    "# See time intervall between images\n",
    "df['dateInserted'] =pd.to_datetime(df['dateInserted'])\n",
    "print(df['dateInserted'].min())\n",
    "print(df['dateInserted'].max())"
   ]
  },
  {
   "cell_type": "markdown",
   "id": "269636bd-90ad-4dd9-9991-8061d69df6e4",
   "metadata": {},
   "source": [
    "## 1.2 Drop columns that are not relevant to our analysis\n",
    "\n",
    "In this section, we remove the columns that are not relevant to our analysis"
   ]
  },
  {
   "cell_type": "code",
   "execution_count": 71,
   "id": "75487511-1f65-49d2-8fe0-7c99226d08de",
   "metadata": {},
   "outputs": [],
   "source": [
    "# drop all columsn except labels\n",
    "df = df.drop(columns=['Unnamed: 0', 'pathBucketImage', 'labelledby', 'reviewedby',\n",
    "                     'dateInserted'])"
   ]
  },
  {
   "cell_type": "code",
   "execution_count": 72,
   "id": "57036427-ec96-4652-9980-5a38692c9cf5",
   "metadata": {},
   "outputs": [],
   "source": [
    "all_columns = ['rosacea_inflammatory','rosacea_erythemato_telangiectasique','peri_oral_dermatitis',\n",
    "                'seborrheic_keratosis','psoriasis_vulgar','seborrheic_dermatitis','nummular_eczema',\n",
    "                'tinea_versicolor','chronic_hand_eczema','vulgar_warts','folliculitis','alopecia_androgenic',\n",
    "                'dyshidrosis','nevus','melasma','alopecia_areata','intertrigo','urticaria','vitiligo','keratosis_pilaris',\n",
    "                'molluscum','cheilitis_eczematous','tinea_corporis','prurigo_nodularis','actinic_keratosis',\n",
    "                'genital_warts','plane_warts','pityriasis_rosae','melanonychia','psoriasis_pustular_palmoplantar',\n",
    "                'granuloma_annulare','psoriasis_guttate','lichen_simplex_chronicus','shingles','herpes_simplex', 'acne_cystic', 'acne_scars', 'acne_mixed', 'acne_excoriated', 'acne_comedos']"
   ]
  },
  {
   "cell_type": "code",
   "execution_count": 73,
   "id": "2246aef2-76be-4ae0-836b-9b641384bae3",
   "metadata": {},
   "outputs": [
    {
     "name": "stdout",
     "output_type": "stream",
     "text": [
      " In the current pipeline, there are 21535 labeled  images.\n",
      " In the current pipeline, there are 18797 images with only one labeled.\n"
     ]
    }
   ],
   "source": [
    "print(f' In the current pipeline, there are {df.shape[0]} labeled  images.')\n",
    "print(f' In the current pipeline, there are {df.loc[(df[all_columns].sum(axis=1) == 1),:].shape[0]} images with only one labeled.')"
   ]
  },
  {
   "cell_type": "markdown",
   "id": "1287cc19-0c7e-4f4c-906b-b4928612c009",
   "metadata": {},
   "source": [
    "## 1.3 Skin Ratio Analysis"
   ]
  },
  {
   "cell_type": "code",
   "execution_count": 74,
   "id": "49a4a10e-1d4d-4cfe-9dde-9b799f39e27e",
   "metadata": {},
   "outputs": [
    {
     "data": {
      "text/plain": [
       "array([0. , 0.1, 0.2, 0.3, 0.4, 0.5, 0.6, 0.7, 0.8, 0.9, 1. ])"
      ]
     },
     "execution_count": 74,
     "metadata": {},
     "output_type": "execute_result"
    }
   ],
   "source": [
    "np.arange(0, 1+0.1, 0.1)"
   ]
  },
  {
   "cell_type": "code",
   "execution_count": 75,
   "id": "8a595842-6059-467e-85cc-1846a6ac6181",
   "metadata": {},
   "outputs": [
    {
     "data": {
      "image/png": "[encoded data removed]",
      "text/plain": [
       "<Figure size 1440x360 with 1 Axes>"
      ]
     },
     "metadata": {
      "needs_background": "light"
     },
     "output_type": "display_data"
    }
   ],
   "source": [
    "plt.figure(figsize=(20,5))\n",
    "plt.ylabel('Number of Images')\n",
    "plt.xticks(np.arange(0, 1+0.1, 0.1))\n",
    "plt.xlabel('Skin ratio')\n",
    "df['ratios'].hist(bins=60, ec=\"k\")\n",
    "plt.show()"
   ]
  },
  {
   "cell_type": "markdown",
   "id": "43a28698-a250-416a-abdd-fc0fc240251e",
   "metadata": {},
   "source": [
    "## 1.4 Labels Visualization"
   ]
  },
  {
   "cell_type": "code",
   "execution_count": 76,
   "id": "364ff9e4-bf65-4361-8f31-8f7e2887eb14",
   "metadata": {},
   "outputs": [
    {
     "data": {
      "image/png": "[encoded data removed]",
      "text/plain": [
       "<Figure size 1224x504 with 1 Axes>"
      ]
     },
     "metadata": {
      "needs_background": "light"
     },
     "output_type": "display_data"
    }
   ],
   "source": [
    "plt.figure(figsize=(17,7))\n",
    "df[all_columns].sum().plot(kind='bar')\n",
    "plt.ylabel('Number of images')\n",
    "plt.xlabel('Diseases')\n",
    "for index, data in enumerate(df[all_columns].sum()):\n",
    "  plt.text(x=index, y=data+0.5, s=f'{data}', fontdict=dict(fontsize=8))\n",
    "plt.show()"
   ]
  },
  {
   "cell_type": "markdown",
   "id": "ce90486d-3a75-4934-abfc-fae4f7853f03",
   "metadata": {},
   "source": [
    "# 1.4 Diseases Percentage"
   ]
  },
  {
   "cell_type": "code",
   "execution_count": 77,
   "id": "d240dfc5-7500-43e3-be3c-7225d3184e9a",
   "metadata": {},
   "outputs": [],
   "source": [
    "df = pd.read_csv('gs://oro-ds-test-bucket/shanel_test/raw_image_paths_from_db.csv')"
   ]
  },
  {
   "cell_type": "code",
   "execution_count": 78,
   "id": "630edf3a-7309-486e-9e29-6c7f582b9797",
   "metadata": {},
   "outputs": [
    {
     "data": {
      "text/plain": [
       "rosacea_inflammatory                    4.319692\n",
       "rosacea_erythemato_telangiectasique     4.796257\n",
       "peri_oral_dermatitis                    4.153550\n",
       "seborrheic_keratosis                    1.731375\n",
       "psoriasis_vulgar                        3.187303\n",
       "seborrheic_dermatitis                   2.653900\n",
       "nummular_eczema                         0.870059\n",
       "tinea_versicolor                        2.317244\n",
       "chronic_hand_eczema                     2.186079\n",
       "vulgar_warts                            1.084295\n",
       "folliculitis                            2.994928\n",
       "alopecia_androgenic                     2.116125\n",
       "dyshidrosis                             1.534627\n",
       "nevus                                   2.002448\n",
       "melasma                                 1.289787\n",
       "alopecia_areata                         0.957503\n",
       "intertrigo                              1.114900\n",
       "urticaria                               0.874432\n",
       "vitiligo                                0.861315\n",
       "keratosis_pilaris                       0.786988\n",
       "molluscum                               0.756383\n",
       "cheilitis_eczematous                    0.752011\n",
       "tinea_corporis                          0.734523\n",
       "prurigo_nodularis                       0.699545\n",
       "actinic_keratosis                       0.581497\n",
       "genital_warts                           0.459077\n",
       "plane_warts                             0.354145\n",
       "pityriasis_rosae                        0.314795\n",
       "melanonychia                            0.240469\n",
       "psoriasis_pustular_palmoplantar         0.240469\n",
       "granuloma_annulare                      0.231724\n",
       "psoriasis_guttate                       0.222980\n",
       "lichen_simplex_chronicus                0.209864\n",
       "shingles                                0.179258\n",
       "herpes_simplex                          0.166142\n",
       "acne_cystic                             3.948059\n",
       "acne_scars                              1.915005\n",
       "acne_mixed                             42.650402\n",
       "acne_excoriated                         1.630815\n",
       "acne_comedos                            1.880028\n",
       "dtype: float64"
      ]
     },
     "execution_count": 78,
     "metadata": {},
     "output_type": "execute_result"
    }
   ],
   "source": [
    "(df[all_columns].sum() / (df[all_columns].sum().sum()) *100)"
   ]
  },
  {
   "cell_type": "code",
   "execution_count": null,
   "id": "3261aa6e-b745-4487-a68c-2b821041bbf3",
   "metadata": {},
   "outputs": [],
   "source": []
  }
 ],
 "metadata": {
  "interpreter": {
   "hash": "0ec88f6e7eaa84b7b8531b79bdc445cdd975d5af012f0c062e819af267a87906"
  },
  "kernelspec": {
   "display_name": "Python 3 (ipykernel)",
   "language": "python",
   "name": "python3"
  },
  "language_info": {
   "codemirror_mode": {
    "name": "ipython",
    "version": 3
   },
   "file_extension": ".py",
   "mimetype": "text/x-python",
   "name": "python",
   "nbconvert_exporter": "python",
   "pygments_lexer": "ipython3",
   "version": "3.7.9"
  }
 },
 "nbformat": 4,
 "nbformat_minor": 5
}
