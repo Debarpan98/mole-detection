{
 "cells": [
  {
   "cell_type": "code",
   "execution_count": 1,
   "id": "2237c98d-c991-4f2e-940e-f92a15e75f7f",
   "metadata": {},
   "outputs": [],
   "source": [
    "import numpy as np\n",
    "import pandas as pd\n",
    "import matplotlib.pyplot as plt"
   ]
  },
  {
   "cell_type": "markdown",
   "id": "199ad442-1fb3-46c9-9387-54c79ff22485",
   "metadata": {},
   "source": [
    "# 1. Dataset Exploration\n",
    "\n",
    "## 1.1 Visualize csv file"
   ]
  },
  {
   "cell_type": "code",
   "execution_count": 2,
   "id": "0be41642-2704-46f9-96a9-2b9904d34dd0",
   "metadata": {},
   "outputs": [
    {
     "data": {
      "text/html": [
       "<div>\n",
       "<style scoped>\n",
       "    .dataframe tbody tr th:only-of-type {\n",
       "        vertical-align: middle;\n",
       "    }\n",
       "\n",
       "    .dataframe tbody tr th {\n",
       "        vertical-align: top;\n",
       "    }\n",
       "\n",
       "    .dataframe thead th {\n",
       "        text-align: right;\n",
       "    }\n",
       "</style>\n",
       "<table border=\"1\" class=\"dataframe\">\n",
       "  <thead>\n",
       "    <tr style=\"text-align: right;\">\n",
       "      <th></th>\n",
       "      <th>Unnamed: 0</th>\n",
       "      <th>pathBucketImage</th>\n",
       "      <th>labelledby</th>\n",
       "      <th>reviewedby</th>\n",
       "      <th>acne_comedos</th>\n",
       "      <th>acne_cystic</th>\n",
       "      <th>acne_mixed</th>\n",
       "      <th>acne_scars</th>\n",
       "      <th>acne_excoriated</th>\n",
       "      <th>rosacea_erythemato_telangiectasique</th>\n",
       "      <th>...</th>\n",
       "      <th>keratosis_pilaris</th>\n",
       "      <th>molluscum</th>\n",
       "      <th>folliculitis</th>\n",
       "      <th>melanonychia</th>\n",
       "      <th>nevus</th>\n",
       "      <th>lichen_planus</th>\n",
       "      <th>chelitis_actinic</th>\n",
       "      <th>cheilitis_eczematous</th>\n",
       "      <th>urticaria</th>\n",
       "      <th>unspecified</th>\n",
       "    </tr>\n",
       "  </thead>\n",
       "  <tbody>\n",
       "    <tr>\n",
       "      <th>0</th>\n",
       "      <td>0</td>\n",
       "      <td>7830/646B3FD8EE/ailment_photos/AP-c1bbfaeb-178...</td>\n",
       "      <td>Guillemette Salomon</td>\n",
       "      <td>NaN</td>\n",
       "      <td>False</td>\n",
       "      <td>False</td>\n",
       "      <td>False</td>\n",
       "      <td>False</td>\n",
       "      <td>False</td>\n",
       "      <td>False</td>\n",
       "      <td>...</td>\n",
       "      <td>False</td>\n",
       "      <td>False</td>\n",
       "      <td>False</td>\n",
       "      <td>False</td>\n",
       "      <td>False</td>\n",
       "      <td>False</td>\n",
       "      <td>False</td>\n",
       "      <td>False</td>\n",
       "      <td>False</td>\n",
       "      <td>False</td>\n",
       "    </tr>\n",
       "    <tr>\n",
       "      <th>1</th>\n",
       "      <td>1</td>\n",
       "      <td>9369/005F4BC9BC/ailment_photos/AP-231d589b-377...</td>\n",
       "      <td>Guillemette Salomon</td>\n",
       "      <td>NaN</td>\n",
       "      <td>False</td>\n",
       "      <td>False</td>\n",
       "      <td>False</td>\n",
       "      <td>False</td>\n",
       "      <td>False</td>\n",
       "      <td>False</td>\n",
       "      <td>...</td>\n",
       "      <td>False</td>\n",
       "      <td>False</td>\n",
       "      <td>False</td>\n",
       "      <td>False</td>\n",
       "      <td>False</td>\n",
       "      <td>False</td>\n",
       "      <td>False</td>\n",
       "      <td>False</td>\n",
       "      <td>False</td>\n",
       "      <td>True</td>\n",
       "    </tr>\n",
       "    <tr>\n",
       "      <th>2</th>\n",
       "      <td>2</td>\n",
       "      <td>936/E617F7DF5F/ailment_photos/AP-cc6f0aa7-75a6...</td>\n",
       "      <td>Guillemette Salomon</td>\n",
       "      <td>NaN</td>\n",
       "      <td>False</td>\n",
       "      <td>False</td>\n",
       "      <td>False</td>\n",
       "      <td>False</td>\n",
       "      <td>False</td>\n",
       "      <td>False</td>\n",
       "      <td>...</td>\n",
       "      <td>False</td>\n",
       "      <td>False</td>\n",
       "      <td>False</td>\n",
       "      <td>False</td>\n",
       "      <td>False</td>\n",
       "      <td>False</td>\n",
       "      <td>False</td>\n",
       "      <td>False</td>\n",
       "      <td>False</td>\n",
       "      <td>False</td>\n",
       "    </tr>\n",
       "    <tr>\n",
       "      <th>3</th>\n",
       "      <td>3</td>\n",
       "      <td>9716/7C41A121CF/ailment_photos/AP-5643b306-19d...</td>\n",
       "      <td>Guillemette Salomon</td>\n",
       "      <td>NaN</td>\n",
       "      <td>False</td>\n",
       "      <td>False</td>\n",
       "      <td>False</td>\n",
       "      <td>False</td>\n",
       "      <td>False</td>\n",
       "      <td>False</td>\n",
       "      <td>...</td>\n",
       "      <td>False</td>\n",
       "      <td>False</td>\n",
       "      <td>False</td>\n",
       "      <td>False</td>\n",
       "      <td>False</td>\n",
       "      <td>False</td>\n",
       "      <td>False</td>\n",
       "      <td>False</td>\n",
       "      <td>False</td>\n",
       "      <td>True</td>\n",
       "    </tr>\n",
       "    <tr>\n",
       "      <th>4</th>\n",
       "      <td>4</td>\n",
       "      <td>9718/BF893BCA47/ailment_photos/AP-0743efe6-50a...</td>\n",
       "      <td>Guillemette Salomon</td>\n",
       "      <td>NaN</td>\n",
       "      <td>False</td>\n",
       "      <td>False</td>\n",
       "      <td>False</td>\n",
       "      <td>False</td>\n",
       "      <td>False</td>\n",
       "      <td>False</td>\n",
       "      <td>...</td>\n",
       "      <td>False</td>\n",
       "      <td>False</td>\n",
       "      <td>False</td>\n",
       "      <td>False</td>\n",
       "      <td>False</td>\n",
       "      <td>False</td>\n",
       "      <td>False</td>\n",
       "      <td>False</td>\n",
       "      <td>False</td>\n",
       "      <td>True</td>\n",
       "    </tr>\n",
       "  </tbody>\n",
       "</table>\n",
       "<p>5 rows × 53 columns</p>\n",
       "</div>"
      ],
      "text/plain": [
       "   Unnamed: 0                                    pathBucketImage  \\\n",
       "0           0  7830/646B3FD8EE/ailment_photos/AP-c1bbfaeb-178...   \n",
       "1           1  9369/005F4BC9BC/ailment_photos/AP-231d589b-377...   \n",
       "2           2  936/E617F7DF5F/ailment_photos/AP-cc6f0aa7-75a6...   \n",
       "3           3  9716/7C41A121CF/ailment_photos/AP-5643b306-19d...   \n",
       "4           4  9718/BF893BCA47/ailment_photos/AP-0743efe6-50a...   \n",
       "\n",
       "            labelledby  reviewedby  acne_comedos  acne_cystic  acne_mixed  \\\n",
       "0  Guillemette Salomon         NaN         False        False       False   \n",
       "1  Guillemette Salomon         NaN         False        False       False   \n",
       "2  Guillemette Salomon         NaN         False        False       False   \n",
       "3  Guillemette Salomon         NaN         False        False       False   \n",
       "4  Guillemette Salomon         NaN         False        False       False   \n",
       "\n",
       "   acne_scars  acne_excoriated  rosacea_erythemato_telangiectasique  ...  \\\n",
       "0       False            False                                False  ...   \n",
       "1       False            False                                False  ...   \n",
       "2       False            False                                False  ...   \n",
       "3       False            False                                False  ...   \n",
       "4       False            False                                False  ...   \n",
       "\n",
       "   keratosis_pilaris  molluscum  folliculitis  melanonychia  nevus  \\\n",
       "0              False      False         False         False  False   \n",
       "1              False      False         False         False  False   \n",
       "2              False      False         False         False  False   \n",
       "3              False      False         False         False  False   \n",
       "4              False      False         False         False  False   \n",
       "\n",
       "   lichen_planus  chelitis_actinic  cheilitis_eczematous  urticaria  \\\n",
       "0          False             False                 False      False   \n",
       "1          False             False                 False      False   \n",
       "2          False             False                 False      False   \n",
       "3          False             False                 False      False   \n",
       "4          False             False                 False      False   \n",
       "\n",
       "   unspecified  \n",
       "0        False  \n",
       "1         True  \n",
       "2        False  \n",
       "3         True  \n",
       "4         True  \n",
       "\n",
       "[5 rows x 53 columns]"
      ]
     },
     "execution_count": 2,
     "metadata": {},
     "output_type": "execute_result"
    }
   ],
   "source": [
    "df = pd.read_csv('gs://oro-ds-test-bucket/shanel_test/raw_image_paths_from_db.csv')\n",
    "df.head(5)"
   ]
  },
  {
   "cell_type": "code",
   "execution_count": 3,
   "id": "6cd17622-3044-441b-95d2-b3dd6a2631d5",
   "metadata": {},
   "outputs": [],
   "source": [
    "df=df[~df.pathBucketImage.str.contains(\"resized\")].reset_index(drop=True)"
   ]
  },
  {
   "cell_type": "code",
   "execution_count": 4,
   "id": "790500e7-41a8-4db9-826d-23922a6c17ac",
   "metadata": {},
   "outputs": [
    {
     "name": "stdout",
     "output_type": "stream",
     "text": [
      "There are 42275 images in the dataset\n"
     ]
    }
   ],
   "source": [
    "print(f'There are {df.shape[0]} images in the dataset')"
   ]
  },
  {
   "cell_type": "code",
   "execution_count": 5,
   "id": "b25c948e-b397-4376-9b4a-0e3f8b0bfb1c",
   "metadata": {},
   "outputs": [
    {
     "name": "stdout",
     "output_type": "stream",
     "text": [
      "These are the labelers: ['Guillemette Salomon' 'Marc-Andre Dore' nan]\n"
     ]
    }
   ],
   "source": [
    "print(f\"These are the labelers: {df['labelledby'].unique()}\")"
   ]
  },
  {
   "cell_type": "code",
   "execution_count": 6,
   "id": "a92047bb-3081-4514-859e-e3469fe14e61",
   "metadata": {},
   "outputs": [
    {
     "name": "stdout",
     "output_type": "stream",
     "text": [
      "2020-12-23 00:00:00\n",
      "2021-11-30 00:00:00\n"
     ]
    }
   ],
   "source": [
    "# See time intervall between images\n",
    "df['dateInserted'] =pd.to_datetime(df['dateInserted'])\n",
    "print(df['dateInserted'].min())\n",
    "print(df['dateInserted'].max())"
   ]
  },
  {
   "cell_type": "markdown",
   "id": "269636bd-90ad-4dd9-9991-8061d69df6e4",
   "metadata": {},
   "source": [
    "## 1.2 Drop columns that are not a label\n",
    "\n",
    "In this section, we also remove the labels that are not used in the current pipeline."
   ]
  },
  {
   "cell_type": "code",
   "execution_count": 7,
   "id": "75487511-1f65-49d2-8fe0-7c99226d08de",
   "metadata": {},
   "outputs": [],
   "source": [
    "# drop all columsn except labels\n",
    "df_40 = df.drop(columns=['Unnamed: 0', 'pathBucketImage', 'labelledby', 'reviewedby',\n",
    "                     'dateInserted'])"
   ]
  },
  {
   "cell_type": "code",
   "execution_count": 8,
   "id": "57036427-ec96-4652-9980-5a38692c9cf5",
   "metadata": {},
   "outputs": [],
   "source": [
    "all_columns = set(df_40.columns)"
   ]
  },
  {
   "cell_type": "code",
   "execution_count": 9,
   "id": "83fc0ae4-99dd-49fb-82c7-2dbaf2e27833",
   "metadata": {},
   "outputs": [],
   "source": [
    "columns = set(['acne_mixed','acne_scars', 'atopic_dermatitis','acne_cystic','acne_excoriated','rosacea_inflammatory','rosacea_erythemato_telangiectasique','acne_comedos','peri_oral_dermatitis','seborrheic_keratosis','psoriasis_vulgar','seborrheic_dermatitis','nummular_eczema','tinea_versicolor','chronic_hand_eczema','vulgar_warts','folliculitis','alopecia_androgenic','dyshidrosis','nevus','melasma','alopecia_areata','intertrigo','urticaria','vitiligo','keratosis_pilaris','molluscum','cheilitis_eczematous','tinea_corporis','prurigo_nodularis','actinic_keratosis','genital_warts','plane_warts','pityriasis_rosae','melanonychia','psoriasis_pustular_palmoplantar','granuloma_annulare','psoriasis_guttate','lichen_simplex_chronicus','shingles','herpes_simplex'])\n"
   ]
  },
  {
   "cell_type": "code",
   "execution_count": 10,
   "id": "dfb40d13-6a3e-4e7f-be26-448d4764cc2a",
   "metadata": {},
   "outputs": [
    {
     "data": {
      "text/plain": [
       "{'chelitis_actinic',\n",
       " 'lichen_planus',\n",
       " 'no_disease',\n",
       " 'other',\n",
       " 'psoriasis_inverse',\n",
       " 'rosacea_rhinophyma',\n",
       " 'unspecified'}"
      ]
     },
     "execution_count": 10,
     "metadata": {},
     "output_type": "execute_result"
    }
   ],
   "source": [
    "# these labels are discared since we do not have enough images\n",
    "# and other and unspecified are the ones that may have other diseases or the doctors could not identify it.\n",
    "columns_discarded = all_columns - columns\n",
    "columns_discarded"
   ]
  },
  {
   "cell_type": "code",
   "execution_count": 12,
   "id": "72b4ebb0-6c91-4135-b047-d6f16d1b05e4",
   "metadata": {},
   "outputs": [
    {
     "data": {
      "text/html": [
       "<div>\n",
       "<style scoped>\n",
       "    .dataframe tbody tr th:only-of-type {\n",
       "        vertical-align: middle;\n",
       "    }\n",
       "\n",
       "    .dataframe tbody tr th {\n",
       "        vertical-align: top;\n",
       "    }\n",
       "\n",
       "    .dataframe thead th {\n",
       "        text-align: right;\n",
       "    }\n",
       "</style>\n",
       "<table border=\"1\" class=\"dataframe\">\n",
       "  <thead>\n",
       "    <tr style=\"text-align: right;\">\n",
       "      <th></th>\n",
       "      <th>acne_excoriated</th>\n",
       "      <th>tinea_versicolor</th>\n",
       "      <th>shingles</th>\n",
       "      <th>acne_scars</th>\n",
       "      <th>molluscum</th>\n",
       "      <th>rosacea_erythemato_telangiectasique</th>\n",
       "      <th>acne_mixed</th>\n",
       "      <th>psoriasis_vulgar</th>\n",
       "      <th>dyshidrosis</th>\n",
       "      <th>keratosis_pilaris</th>\n",
       "      <th>...</th>\n",
       "      <th>rosacea_inflammatory</th>\n",
       "      <th>seborrheic_dermatitis</th>\n",
       "      <th>seborrheic_keratosis</th>\n",
       "      <th>acne_cystic</th>\n",
       "      <th>granuloma_annulare</th>\n",
       "      <th>chronic_hand_eczema</th>\n",
       "      <th>tinea_corporis</th>\n",
       "      <th>psoriasis_pustular_palmoplantar</th>\n",
       "      <th>urticaria</th>\n",
       "      <th>alopecia_androgenic</th>\n",
       "    </tr>\n",
       "  </thead>\n",
       "  <tbody>\n",
       "    <tr>\n",
       "      <th>0</th>\n",
       "      <td>False</td>\n",
       "      <td>False</td>\n",
       "      <td>False</td>\n",
       "      <td>False</td>\n",
       "      <td>False</td>\n",
       "      <td>False</td>\n",
       "      <td>False</td>\n",
       "      <td>False</td>\n",
       "      <td>False</td>\n",
       "      <td>False</td>\n",
       "      <td>...</td>\n",
       "      <td>False</td>\n",
       "      <td>False</td>\n",
       "      <td>False</td>\n",
       "      <td>False</td>\n",
       "      <td>False</td>\n",
       "      <td>False</td>\n",
       "      <td>False</td>\n",
       "      <td>False</td>\n",
       "      <td>False</td>\n",
       "      <td>False</td>\n",
       "    </tr>\n",
       "    <tr>\n",
       "      <th>1</th>\n",
       "      <td>False</td>\n",
       "      <td>False</td>\n",
       "      <td>False</td>\n",
       "      <td>False</td>\n",
       "      <td>False</td>\n",
       "      <td>False</td>\n",
       "      <td>False</td>\n",
       "      <td>False</td>\n",
       "      <td>False</td>\n",
       "      <td>False</td>\n",
       "      <td>...</td>\n",
       "      <td>False</td>\n",
       "      <td>False</td>\n",
       "      <td>False</td>\n",
       "      <td>False</td>\n",
       "      <td>False</td>\n",
       "      <td>False</td>\n",
       "      <td>False</td>\n",
       "      <td>False</td>\n",
       "      <td>False</td>\n",
       "      <td>False</td>\n",
       "    </tr>\n",
       "    <tr>\n",
       "      <th>2</th>\n",
       "      <td>False</td>\n",
       "      <td>False</td>\n",
       "      <td>False</td>\n",
       "      <td>False</td>\n",
       "      <td>False</td>\n",
       "      <td>False</td>\n",
       "      <td>False</td>\n",
       "      <td>True</td>\n",
       "      <td>False</td>\n",
       "      <td>False</td>\n",
       "      <td>...</td>\n",
       "      <td>False</td>\n",
       "      <td>False</td>\n",
       "      <td>False</td>\n",
       "      <td>False</td>\n",
       "      <td>False</td>\n",
       "      <td>False</td>\n",
       "      <td>False</td>\n",
       "      <td>False</td>\n",
       "      <td>False</td>\n",
       "      <td>False</td>\n",
       "    </tr>\n",
       "    <tr>\n",
       "      <th>3</th>\n",
       "      <td>False</td>\n",
       "      <td>False</td>\n",
       "      <td>False</td>\n",
       "      <td>False</td>\n",
       "      <td>False</td>\n",
       "      <td>False</td>\n",
       "      <td>False</td>\n",
       "      <td>False</td>\n",
       "      <td>False</td>\n",
       "      <td>False</td>\n",
       "      <td>...</td>\n",
       "      <td>False</td>\n",
       "      <td>False</td>\n",
       "      <td>False</td>\n",
       "      <td>False</td>\n",
       "      <td>False</td>\n",
       "      <td>False</td>\n",
       "      <td>False</td>\n",
       "      <td>False</td>\n",
       "      <td>False</td>\n",
       "      <td>False</td>\n",
       "    </tr>\n",
       "    <tr>\n",
       "      <th>4</th>\n",
       "      <td>False</td>\n",
       "      <td>False</td>\n",
       "      <td>False</td>\n",
       "      <td>False</td>\n",
       "      <td>False</td>\n",
       "      <td>False</td>\n",
       "      <td>False</td>\n",
       "      <td>False</td>\n",
       "      <td>False</td>\n",
       "      <td>False</td>\n",
       "      <td>...</td>\n",
       "      <td>False</td>\n",
       "      <td>False</td>\n",
       "      <td>False</td>\n",
       "      <td>False</td>\n",
       "      <td>False</td>\n",
       "      <td>False</td>\n",
       "      <td>False</td>\n",
       "      <td>False</td>\n",
       "      <td>False</td>\n",
       "      <td>False</td>\n",
       "    </tr>\n",
       "    <tr>\n",
       "      <th>5</th>\n",
       "      <td>False</td>\n",
       "      <td>False</td>\n",
       "      <td>False</td>\n",
       "      <td>False</td>\n",
       "      <td>False</td>\n",
       "      <td>False</td>\n",
       "      <td>False</td>\n",
       "      <td>False</td>\n",
       "      <td>False</td>\n",
       "      <td>False</td>\n",
       "      <td>...</td>\n",
       "      <td>False</td>\n",
       "      <td>False</td>\n",
       "      <td>False</td>\n",
       "      <td>False</td>\n",
       "      <td>False</td>\n",
       "      <td>False</td>\n",
       "      <td>False</td>\n",
       "      <td>False</td>\n",
       "      <td>False</td>\n",
       "      <td>False</td>\n",
       "    </tr>\n",
       "    <tr>\n",
       "      <th>6</th>\n",
       "      <td>False</td>\n",
       "      <td>False</td>\n",
       "      <td>False</td>\n",
       "      <td>False</td>\n",
       "      <td>False</td>\n",
       "      <td>False</td>\n",
       "      <td>True</td>\n",
       "      <td>False</td>\n",
       "      <td>False</td>\n",
       "      <td>False</td>\n",
       "      <td>...</td>\n",
       "      <td>False</td>\n",
       "      <td>False</td>\n",
       "      <td>False</td>\n",
       "      <td>False</td>\n",
       "      <td>False</td>\n",
       "      <td>False</td>\n",
       "      <td>False</td>\n",
       "      <td>False</td>\n",
       "      <td>False</td>\n",
       "      <td>False</td>\n",
       "    </tr>\n",
       "    <tr>\n",
       "      <th>7</th>\n",
       "      <td>False</td>\n",
       "      <td>False</td>\n",
       "      <td>False</td>\n",
       "      <td>False</td>\n",
       "      <td>False</td>\n",
       "      <td>False</td>\n",
       "      <td>False</td>\n",
       "      <td>False</td>\n",
       "      <td>False</td>\n",
       "      <td>False</td>\n",
       "      <td>...</td>\n",
       "      <td>False</td>\n",
       "      <td>False</td>\n",
       "      <td>False</td>\n",
       "      <td>False</td>\n",
       "      <td>False</td>\n",
       "      <td>False</td>\n",
       "      <td>False</td>\n",
       "      <td>False</td>\n",
       "      <td>False</td>\n",
       "      <td>False</td>\n",
       "    </tr>\n",
       "    <tr>\n",
       "      <th>8</th>\n",
       "      <td>False</td>\n",
       "      <td>False</td>\n",
       "      <td>False</td>\n",
       "      <td>False</td>\n",
       "      <td>False</td>\n",
       "      <td>False</td>\n",
       "      <td>False</td>\n",
       "      <td>False</td>\n",
       "      <td>False</td>\n",
       "      <td>False</td>\n",
       "      <td>...</td>\n",
       "      <td>False</td>\n",
       "      <td>False</td>\n",
       "      <td>False</td>\n",
       "      <td>False</td>\n",
       "      <td>False</td>\n",
       "      <td>False</td>\n",
       "      <td>False</td>\n",
       "      <td>False</td>\n",
       "      <td>False</td>\n",
       "      <td>False</td>\n",
       "    </tr>\n",
       "    <tr>\n",
       "      <th>9</th>\n",
       "      <td>False</td>\n",
       "      <td>False</td>\n",
       "      <td>False</td>\n",
       "      <td>False</td>\n",
       "      <td>False</td>\n",
       "      <td>False</td>\n",
       "      <td>False</td>\n",
       "      <td>False</td>\n",
       "      <td>False</td>\n",
       "      <td>False</td>\n",
       "      <td>...</td>\n",
       "      <td>False</td>\n",
       "      <td>False</td>\n",
       "      <td>False</td>\n",
       "      <td>False</td>\n",
       "      <td>False</td>\n",
       "      <td>False</td>\n",
       "      <td>False</td>\n",
       "      <td>False</td>\n",
       "      <td>False</td>\n",
       "      <td>False</td>\n",
       "    </tr>\n",
       "  </tbody>\n",
       "</table>\n",
       "<p>10 rows × 41 columns</p>\n",
       "</div>"
      ],
      "text/plain": [
       "   acne_excoriated  tinea_versicolor  shingles  acne_scars  molluscum  \\\n",
       "0            False             False     False       False      False   \n",
       "1            False             False     False       False      False   \n",
       "2            False             False     False       False      False   \n",
       "3            False             False     False       False      False   \n",
       "4            False             False     False       False      False   \n",
       "5            False             False     False       False      False   \n",
       "6            False             False     False       False      False   \n",
       "7            False             False     False       False      False   \n",
       "8            False             False     False       False      False   \n",
       "9            False             False     False       False      False   \n",
       "\n",
       "   rosacea_erythemato_telangiectasique  acne_mixed  psoriasis_vulgar  \\\n",
       "0                                False       False             False   \n",
       "1                                False       False             False   \n",
       "2                                False       False              True   \n",
       "3                                False       False             False   \n",
       "4                                False       False             False   \n",
       "5                                False       False             False   \n",
       "6                                False        True             False   \n",
       "7                                False       False             False   \n",
       "8                                False       False             False   \n",
       "9                                False       False             False   \n",
       "\n",
       "   dyshidrosis  keratosis_pilaris  ...  rosacea_inflammatory  \\\n",
       "0        False              False  ...                 False   \n",
       "1        False              False  ...                 False   \n",
       "2        False              False  ...                 False   \n",
       "3        False              False  ...                 False   \n",
       "4        False              False  ...                 False   \n",
       "5        False              False  ...                 False   \n",
       "6        False              False  ...                 False   \n",
       "7        False              False  ...                 False   \n",
       "8        False              False  ...                 False   \n",
       "9        False              False  ...                 False   \n",
       "\n",
       "   seborrheic_dermatitis  seborrheic_keratosis  acne_cystic  \\\n",
       "0                  False                 False        False   \n",
       "1                  False                 False        False   \n",
       "2                  False                 False        False   \n",
       "3                  False                 False        False   \n",
       "4                  False                 False        False   \n",
       "5                  False                 False        False   \n",
       "6                  False                 False        False   \n",
       "7                  False                 False        False   \n",
       "8                  False                 False        False   \n",
       "9                  False                 False        False   \n",
       "\n",
       "   granuloma_annulare  chronic_hand_eczema  tinea_corporis  \\\n",
       "0               False                False           False   \n",
       "1               False                False           False   \n",
       "2               False                False           False   \n",
       "3               False                False           False   \n",
       "4               False                False           False   \n",
       "5               False                False           False   \n",
       "6               False                False           False   \n",
       "7               False                False           False   \n",
       "8               False                False           False   \n",
       "9               False                False           False   \n",
       "\n",
       "   psoriasis_pustular_palmoplantar  urticaria  alopecia_androgenic  \n",
       "0                            False      False                False  \n",
       "1                            False      False                False  \n",
       "2                            False      False                False  \n",
       "3                            False      False                False  \n",
       "4                            False      False                False  \n",
       "5                            False      False                False  \n",
       "6                            False      False                False  \n",
       "7                            False      False                False  \n",
       "8                            False      False                False  \n",
       "9                            False      False                False  \n",
       "\n",
       "[10 rows x 41 columns]"
      ]
     },
     "execution_count": 12,
     "metadata": {},
     "output_type": "execute_result"
    }
   ],
   "source": [
    "df_40 = df_40[all_columns.intersection(columns)]\n",
    "df_40.head(10)"
   ]
  },
  {
   "cell_type": "markdown",
   "id": "7bc80a86-ee5f-4dd8-b24b-84c2399474b0",
   "metadata": {},
   "source": [
    "## 1.3 Remove images with no label (False for every column)"
   ]
  },
  {
   "cell_type": "code",
   "execution_count": 14,
   "id": "b7e8813f-aa94-478e-8774-aa564d332975",
   "metadata": {},
   "outputs": [
    {
     "name": "stdout",
     "output_type": "stream",
     "text": [
      "21886\n"
     ]
    }
   ],
   "source": [
    "n = 0\n",
    "index = []\n",
    "for i, row in df_40.iterrows():\n",
    "    if any(row.values): \n",
    "        n += 1\n",
    "        index.append(i)\n",
    "index = np.array(index)\n",
    "print(n)"
   ]
  },
  {
   "cell_type": "code",
   "execution_count": 15,
   "id": "07359dca-8319-4f6c-b9c9-e14aef6baaa4",
   "metadata": {},
   "outputs": [],
   "source": [
    "df_40 = df_40.iloc[index]"
   ]
  },
  {
   "cell_type": "markdown",
   "id": "93ed0af6-d287-4c36-9785-0ac0ce61a076",
   "metadata": {},
   "source": [
    "## 1.4 Remove images with more than one label"
   ]
  },
  {
   "cell_type": "code",
   "execution_count": 16,
   "id": "c6f85dae-af6f-491a-ae31-f8d818444fb3",
   "metadata": {},
   "outputs": [
    {
     "name": "stdout",
     "output_type": "stream",
     "text": [
      "20274\n"
     ]
    }
   ],
   "source": [
    "n = 0\n",
    "one_label_index = []\n",
    "for i, row in df_40.iterrows():\n",
    "    if sum(row.values)==1: \n",
    "        n += 1\n",
    "        one_label_index.append(i)\n",
    "print(n)\n",
    "df_one_label = df_40.loc[one_label_index]"
   ]
  },
  {
   "cell_type": "code",
   "execution_count": 17,
   "id": "2246aef2-76be-4ae0-836b-9b641384bae3",
   "metadata": {},
   "outputs": [
    {
     "name": "stdout",
     "output_type": "stream",
     "text": [
      " In the current pipeline, there are 20274 labeled  images.\n"
     ]
    }
   ],
   "source": [
    "print(f' In the current pipeline, there are {df_one_label.shape[0]} labeled  images.')"
   ]
  },
  {
   "cell_type": "markdown",
   "id": "1287cc19-0c7e-4f4c-906b-b4928612c009",
   "metadata": {},
   "source": [
    "## 1.5 Visualize label distributions"
   ]
  },
  {
   "cell_type": "code",
   "execution_count": 18,
   "id": "364ff9e4-bf65-4361-8f31-8f7e2887eb14",
   "metadata": {},
   "outputs": [
    {
     "data": {
      "image/png": "[encoded data removed]",
      "text/plain": [
       "<Figure size 1224x504 with 1 Axes>"
      ]
     },
     "metadata": {
      "needs_background": "light"
     },
     "output_type": "display_data"
    }
   ],
   "source": [
    "plt.figure(figsize=(17,7))\n",
    "df_one_label.sum().plot(kind='bar')\n",
    "plt.ylabel('Number of images')\n",
    "plt.xlabel('Diseases')\n",
    "for index, data in enumerate(df_one_label.sum()):\n",
    "  plt.text(x=index, y=data+0.5, s=f'{data}', fontdict=dict(fontsize=8))\n",
    "plt.show()"
   ]
  },
  {
   "cell_type": "code",
   "execution_count": 31,
   "id": "ae18a56b-edc0-4650-9b2c-6d6e7144bdd4",
   "metadata": {},
   "outputs": [
    {
     "name": "stdout",
     "output_type": "stream",
     "text": [
      "Without acne mixed, there are 0 images.\n"
     ]
    }
   ],
   "source": [
    "print(f'Without acne mixed, there are {df_acne.shape[0]} images.')"
   ]
  },
  {
   "cell_type": "code",
   "execution_count": 32,
   "id": "86216cb3-ee07-4b84-a1da-8c90ea853676",
   "metadata": {},
   "outputs": [
    {
     "data": {
      "text/plain": [
       "Series([], dtype: int64)"
      ]
     },
     "execution_count": 32,
     "metadata": {},
     "output_type": "execute_result"
    }
   ],
   "source": [
    "df_acne.loc[:].apply(lambda x: tuple(df_acne.columns[np.argwhere(x.values== True).flatten()]), axis=1).value_counts()"
   ]
  },
  {
   "cell_type": "markdown",
   "id": "4bac45b0-845f-46a5-80e8-71be68feb16c",
   "metadata": {},
   "source": [
    "# Binary Classification"
   ]
  },
  {
   "cell_type": "code",
   "execution_count": 160,
   "id": "509032e5-3587-46c4-b720-7811137ccb19",
   "metadata": {},
   "outputs": [],
   "source": [
    "columns = ['atopic_dermatitis','rosacea_inflammatory','rosacea_erythemato_telangiectasique','peri_oral_dermatitis','seborrheic_keratosis','psoriasis_vulgar','seborrheic_dermatitis','nummular_eczema','tinea_versicolor','chronic_hand_eczema','vulgar_warts','folliculitis','alopecia_androgenic','dyshidrosis','nevus','melasma','alopecia_areata','intertrigo','urticaria','vitiligo','keratosis_pilaris','molluscum','cheilitis_eczematous','tinea_corporis','prurigo_nodularis','actinic_keratosis','genital_warts','plane_warts','pityriasis_rosae','melanonychia','psoriasis_pustular_palmoplantar','granuloma_annulare','psoriasis_guttate','lichen_simplex_chronicus','shingles','herpes_simplex']\n",
    "classes_mixed =  ['acne_cystic', 'acne_scars', 'acne_mixed', 'acne_excoriated', 'acne_comedos']"
   ]
  },
  {
   "cell_type": "code",
   "execution_count": 161,
   "id": "4f19b2d6-7220-476b-99e6-ed551c2589e5",
   "metadata": {},
   "outputs": [],
   "source": [
    "df_binary = df.copy()"
   ]
  },
  {
   "cell_type": "code",
   "execution_count": 162,
   "id": "98a1e8d1-f8b7-47c2-94b3-698a252469ec",
   "metadata": {},
   "outputs": [],
   "source": [
    "all_columns = columns.copy()\n",
    "all_columns.extend(classes_mixed)"
   ]
  },
  {
   "cell_type": "code",
   "execution_count": 163,
   "id": "f52ca84c-14de-4754-a7cf-ffe724129d1d",
   "metadata": {},
   "outputs": [],
   "source": [
    "df_binary = df_binary.loc[(df_binary[all_columns].sum(axis=1) >0),:].reset_index(drop=True)\n",
    "\n",
    "df_binary = df_binary[all_columns].reset_index(drop=True)"
   ]
  },
  {
   "cell_type": "code",
   "execution_count": 164,
   "id": "f22f4e03-58ad-4245-979a-f5985eb93aef",
   "metadata": {},
   "outputs": [],
   "source": [
    "masks = (df_binary[columns].sum(axis=1) == 0) & (df_binary[classes_mixed].sum(axis=1) >0)"
   ]
  },
  {
   "cell_type": "code",
   "execution_count": 165,
   "id": "140365b6-a073-4b6d-9f85-1950f8fcdcbd",
   "metadata": {},
   "outputs": [
    {
     "name": "stdout",
     "output_type": "stream",
     "text": [
      "False    11804\n",
      "True     10082\n",
      "Name: acne, dtype: int64\n"
     ]
    }
   ],
   "source": [
    "\n",
    "df_binary['acne'] = masks\n",
    "all_columns.append('pathBucketImage')\n",
    "print(df_binary['acne'].value_counts())"
   ]
  },
  {
   "cell_type": "code",
   "execution_count": 166,
   "id": "bcd0db38-5bcb-4968-baff-6010c3b871ae",
   "metadata": {},
   "outputs": [],
   "source": [
    "set_other_classes = set(columns)\n",
    "set_other_classes.add('acne')"
   ]
  },
  {
   "cell_type": "code",
   "execution_count": 167,
   "id": "aa290571-c432-416c-99c2-350d93874930",
   "metadata": {},
   "outputs": [],
   "source": [
    "df_binary = df_binary.loc[(df_binary[set_other_classes].sum(axis=1) >0),:]"
   ]
  },
  {
   "cell_type": "code",
   "execution_count": 168,
   "id": "8c4372ca-f81c-4cec-adf3-84e08b7fc70e",
   "metadata": {},
   "outputs": [
    {
     "data": {
      "text/plain": [
       "<matplotlib.axes._subplots.AxesSubplot at 0x7f5a5344d5d0>"
      ]
     },
     "execution_count": 168,
     "metadata": {},
     "output_type": "execute_result"
    },
    {
     "data": {
      "image/png": "[encoded data removed]",
      "text/plain": [
       "<Figure size 432x288 with 1 Axes>"
      ]
     },
     "metadata": {
      "needs_background": "light"
     },
     "output_type": "display_data"
    }
   ],
   "source": [
    "(df_binary['acne']*1).hist()"
   ]
  },
  {
   "cell_type": "code",
   "execution_count": 169,
   "id": "de6fbe86-d412-4ade-a07d-f5714c0a4d30",
   "metadata": {},
   "outputs": [
    {
     "data": {
      "text/plain": [
       "Index(['atopic_dermatitis', 'rosacea_inflammatory',\n",
       "       'rosacea_erythemato_telangiectasique', 'peri_oral_dermatitis',\n",
       "       'seborrheic_keratosis', 'psoriasis_vulgar', 'seborrheic_dermatitis',\n",
       "       'nummular_eczema', 'tinea_versicolor', 'chronic_hand_eczema',\n",
       "       'vulgar_warts', 'folliculitis', 'alopecia_androgenic', 'dyshidrosis',\n",
       "       'nevus', 'melasma', 'alopecia_areata', 'intertrigo', 'urticaria',\n",
       "       'vitiligo', 'keratosis_pilaris', 'molluscum', 'cheilitis_eczematous',\n",
       "       'tinea_corporis', 'prurigo_nodularis', 'actinic_keratosis',\n",
       "       'genital_warts', 'plane_warts', 'pityriasis_rosae', 'melanonychia',\n",
       "       'psoriasis_pustular_palmoplantar', 'granuloma_annulare',\n",
       "       'psoriasis_guttate', 'lichen_simplex_chronicus', 'shingles',\n",
       "       'herpes_simplex', 'acne_cystic', 'acne_scars', 'acne_mixed',\n",
       "       'acne_excoriated', 'acne_comedos', 'acne'],\n",
       "      dtype='object')"
      ]
     },
     "execution_count": 169,
     "metadata": {},
     "output_type": "execute_result"
    }
   ],
   "source": [
    "df_binary.columns"
   ]
  },
  {
   "cell_type": "code",
   "execution_count": 170,
   "id": "8fecec70-ed5c-4cda-ba2a-b7a66188a3d2",
   "metadata": {},
   "outputs": [],
   "source": [
    "max_value = 80\n",
    "subsample_max_per_disease = {\n",
    "    'acne_mixed':3800,\n",
    "    'acne_cystic': 676,\n",
    "    'acne_scars': 350,\n",
    "    'acne_comedos': 255,\n",
    "    'acne_excoriated': 250,\n",
    "    'peri_oral_dermatitis': 550,\n",
    "    'folliculitis': 400,\n",
    "    'rosacea_inflammatory': 550,\n",
    "    'rosacea_erythemato_telangiectasique': 550,\n",
    "    'melasma': 400,\n",
    "    'seborrheic_dermatitis': 400,\n",
    "    'plane_warts': 400}"
   ]
  },
  {
   "cell_type": "code",
   "execution_count": 171,
   "id": "05192c65-477b-4f62-978b-789d04061f8d",
   "metadata": {},
   "outputs": [],
   "source": [
    "def sample_per_disease(column, df, num_images, max_value, subsample_max_per_disease):\n",
    "    if column in subsample_max_per_disease.keys():\n",
    "        max_value = subsample_max_per_disease[column]\n",
    "    \n",
    "    if num_images > max_value:\n",
    "        print(f'{column} has {num_images}, but max value is {max_value}.')\n",
    "        idx= df[df[column]==True].sample(n= num_images - max_value,random_state=42).index\n",
    "        df.drop(idx, axis=0, inplace=True)\n",
    "        df.reset_index(drop=True, inplace=True)\n",
    "        num_images = df[column].value_counts()[True]\n",
    "        #print(f'{column} has now {num_images}.')"
   ]
  },
  {
   "cell_type": "code",
   "execution_count": 172,
   "id": "5393c20d-62b4-4b88-8777-d8a0f6d20a33",
   "metadata": {},
   "outputs": [],
   "source": [
    "\n",
    "def sample_with_max_value(df,  max_value, subsample_max_per_disease):\n",
    "    for column in df.columns:\n",
    "        try:\n",
    "            if column != 'pathBucketImage' and column !='acne':\n",
    "                num_images = df[column].value_counts()[True] \n",
    "                sample_per_disease(column, df, num_images, max_value, subsample_max_per_disease)\n",
    "        except:\n",
    "            pass\n",
    "    return df\n"
   ]
  },
  {
   "cell_type": "code",
   "execution_count": 173,
   "id": "c153d2ae-08ec-482e-bf30-0baeeb0c25fc",
   "metadata": {},
   "outputs": [
    {
     "name": "stdout",
     "output_type": "stream",
     "text": [
      "atopic_dermatitis has 1589, but max value is 80.\n",
      "rosacea_inflammatory has 929, but max value is 550.\n",
      "rosacea_erythemato_telangiectasique has 935, but max value is 550.\n",
      "peri_oral_dermatitis has 939, but max value is 550.\n",
      "seborrheic_keratosis has 371, but max value is 80.\n",
      "psoriasis_vulgar has 684, but max value is 80.\n",
      "seborrheic_dermatitis has 586, but max value is 400.\n",
      "nummular_eczema has 194, but max value is 80.\n",
      "tinea_versicolor has 530, but max value is 80.\n",
      "chronic_hand_eczema has 455, but max value is 80.\n",
      "vulgar_warts has 236, but max value is 80.\n",
      "folliculitis has 677, but max value is 400.\n",
      "alopecia_androgenic has 483, but max value is 80.\n",
      "dyshidrosis has 325, but max value is 80.\n",
      "nevus has 452, but max value is 80.\n",
      "alopecia_areata has 219, but max value is 80.\n",
      "intertrigo has 245, but max value is 80.\n",
      "urticaria has 200, but max value is 80.\n",
      "vitiligo has 196, but max value is 80.\n",
      "keratosis_pilaris has 177, but max value is 80.\n",
      "molluscum has 160, but max value is 80.\n",
      "cheilitis_eczematous has 155, but max value is 80.\n",
      "tinea_corporis has 151, but max value is 80.\n",
      "prurigo_nodularis has 153, but max value is 80.\n",
      "actinic_keratosis has 129, but max value is 80.\n",
      "genital_warts has 104, but max value is 80.\n",
      "acne_cystic has 891, but max value is 676.\n",
      "acne_scars has 412, but max value is 350.\n",
      "acne_mixed has 9075, but max value is 3800.\n",
      "acne_comedos has 289, but max value is 255.\n"
     ]
    }
   ],
   "source": [
    "max_value = 80\n",
    "subsample_max_per_disease = {\n",
    "    'acne_mixed':3800,\n",
    "    'acne_cystic': 676,\n",
    "    'acne_scars': 350,\n",
    "    'acne_comedos': 255,\n",
    "    'acne_excoriated': 250,\n",
    "    'peri_oral_dermatitis': 550,\n",
    "    'folliculitis': 400,\n",
    "    'rosacea_inflammatory': 550,\n",
    "    'rosacea_erythemato_telangiectasique': 550,\n",
    "    'melasma': 400,\n",
    "    'seborrheic_dermatitis': 400,\n",
    "    'plane_warts': 400}\n",
    "df_binary = sample_with_max_value(df_binary,  max_value, subsample_max_per_disease)"
   ]
  },
  {
   "cell_type": "code",
   "execution_count": 175,
   "id": "c9814e2b-e219-48b0-999b-706391a18b66",
   "metadata": {},
   "outputs": [
    {
     "name": "stdout",
     "output_type": "stream",
     "text": [
      "False    4634\n",
      "True     4522\n",
      "Name: acne, dtype: int64\n"
     ]
    },
    {
     "data": {
      "text/plain": [
       "<matplotlib.axes._subplots.AxesSubplot at 0x7f5a45120fd0>"
      ]
     },
     "execution_count": 175,
     "metadata": {},
     "output_type": "execute_result"
    },
    {
     "data": {
      "image/png": "[encoded data removed]",
      "text/plain": [
       "<Figure size 432x288 with 1 Axes>"
      ]
     },
     "metadata": {
      "needs_background": "light"
     },
     "output_type": "display_data"
    }
   ],
   "source": [
    "print(df_binary['acne'].value_counts())\n",
    "(df_binary['acne']*1).hist()"
   ]
  },
  {
   "cell_type": "code",
   "execution_count": null,
   "id": "f65a8c23-6cd4-47e2-880e-388da62870ec",
   "metadata": {},
   "outputs": [],
   "source": []
  }
 ],
 "metadata": {
  "interpreter": {
   "hash": "0ec88f6e7eaa84b7b8531b79bdc445cdd975d5af012f0c062e819af267a87906"
  },
  "kernelspec": {
   "display_name": "Python 3 (ipykernel)",
   "language": "python",
   "name": "python3"
  },
  "language_info": {
   "codemirror_mode": {
    "name": "ipython",
    "version": 3
   },
   "file_extension": ".py",
   "mimetype": "text/x-python",
   "name": "python",
   "nbconvert_exporter": "python",
   "pygments_lexer": "ipython3",
   "version": "3.7.9"
  }
 },
 "nbformat": 4,
 "nbformat_minor": 5
}
