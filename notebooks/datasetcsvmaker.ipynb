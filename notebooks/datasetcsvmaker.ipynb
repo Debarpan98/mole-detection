{
 "cells": [
  {
   "cell_type": "code",
   "execution_count": null,
   "metadata": {},
   "outputs": [
    {
     "name": "stdout",
     "output_type": "stream",
     "text": [
      "Using Default Env Variable:GCS\n",
      "Using Default Env Variable:LOAD_MODELS\n",
      "Using Default Env Variable:GCS_IMAGE_BUCKET\n",
      "Using Default Env Variable:USER_DERMINATOR\n",
      "Using Default Env Variable:PW_DERMINATOR\n"
     ]
    }
   ],
   "source": [
    "from pathlib import Path\n",
    "import sys\n",
    "import pandas as pd\n",
    "import matplotlib.pyplot as plt\n",
    "sys.path.append(str(Path.cwd().parent))\n",
    "\n",
    "import multiprocessing\n",
    "import os\n",
    "from loguru import logger\n",
    "from src.utils.gcs_utils import set_environement_variable\n",
    "\n",
    "is_env_variables_set = set_environement_variable()\n",
    "os.environ[\"GOOGLE_APPLICATION_CREDENTIALS\"] = 'path to auth.json file'"
   ]
  },
  {
   "cell_type": "code",
   "execution_count": 2,
   "metadata": {},
   "outputs": [],
   "source": [
    "from src.utils.gcs_utils import *\n",
    "bucket = get_bucket_gcs('oro-ds-test-bucket')"
   ]
  },
  {
   "cell_type": "code",
   "execution_count": 7,
   "metadata": {},
   "outputs": [],
   "source": [
    "images=[]\n",
    "labels=[]"
   ]
  },
  {
   "cell_type": "code",
   "execution_count": 8,
   "metadata": {},
   "outputs": [],
   "source": [
    "def read_images_gcs(bucket, prefix='sdd_Debarpan/Images_danderm/', label = True):\n",
    "    #set_gcs_env(gcs=1) #TODO\n",
    "\n",
    "    iterator = bucket.list_blobs(delimiter=\"/\", prefix=prefix)\n",
    "    response = iterator._get_next_page_response()\n",
    "    \n",
    "    if 'items' in response.keys():\n",
    "        num_of_images=len(response['items'])\n",
    "        \n",
    "        i=0\n",
    "        while i<num_of_images:\n",
    "            img_bucket_uri=response['items'][i]['name']\n",
    "\n",
    "            images.append(img_bucket_uri)\n",
    "            labels.append(label)\n",
    "            i +=1\n",
    "\n",
    "    elif 'prefixes' in response.keys():\n",
    "        \n",
    "        for c in response['prefixes']:\n",
    "            if not c.endswith(\"/\"):\n",
    "                c += \"/\"\n",
    "\n",
    "            read_images_gcs(bucket, prefix = c, label = label)\n",
    "    else:\n",
    "        print('ERROR')"
   ]
  },
  {
   "cell_type": "code",
   "execution_count": null,
   "metadata": {},
   "outputs": [],
   "source": [
    "prefix = 'sdd_Debarpan/Images_danderm/moles/'\n",
    "read_images_gcs(bucket, prefix = prefix, label = True)"
   ]
  },
  {
   "cell_type": "code",
   "execution_count": null,
   "metadata": {},
   "outputs": [],
   "source": [
    "len(images)"
   ]
  },
  {
   "cell_type": "code",
   "execution_count": 11,
   "metadata": {},
   "outputs": [],
   "source": [
    "prefix = 'sdd_Debarpan/Images_danderm/non_moles/'\n",
    "read_images_gcs(bucket, prefix = prefix, label = False)"
   ]
  },
  {
   "cell_type": "code",
   "execution_count": 12,
   "metadata": {},
   "outputs": [
    {
     "data": {
      "text/plain": [
       "2952"
      ]
     },
     "execution_count": 12,
     "metadata": {},
     "output_type": "execute_result"
    }
   ],
   "source": [
    "len(images)"
   ]
  },
  {
   "cell_type": "code",
   "execution_count": 20,
   "metadata": {},
   "outputs": [],
   "source": [
    "data = {'pathBucketImage' : images, 'labelledby' : ['KingsAndQueensOfDataScience']*len(images), 'reviewedby' : ['N/A']*len(images), 'mole' : labels, 'no_mole' : [not i for i in labels], 'dateInserted' : datetime.datetime.now().date(), 'ratios' : [0]*len(images)}\n",
    "df = pd.DataFrame(data)"
   ]
  },
  {
   "cell_type": "code",
   "execution_count": 23,
   "metadata": {},
   "outputs": [],
   "source": [
    "df.to_csv('dataset_1.0.csv')"
   ]
  },
  {
   "cell_type": "code",
   "execution_count": null,
   "metadata": {},
   "outputs": [],
   "source": []
  }
 ],
 "metadata": {
  "kernelspec": {
   "display_name": "mole",
   "language": "python",
   "name": "python3"
  },
  "language_info": {
   "codemirror_mode": {
    "name": "ipython",
    "version": 3
   },
   "file_extension": ".py",
   "mimetype": "text/x-python",
   "name": "python",
   "nbconvert_exporter": "python",
   "pygments_lexer": "ipython3",
   "version": "3.8.8"
  },
  "orig_nbformat": 4,
  "vscode": {
   "interpreter": {
    "hash": "0a9d6be6d0d6b74924be000b7d25af495e79c95c977fdbb7af1b8234ba7a2230"
   }
  }
 },
 "nbformat": 4,
 "nbformat_minor": 2
}
