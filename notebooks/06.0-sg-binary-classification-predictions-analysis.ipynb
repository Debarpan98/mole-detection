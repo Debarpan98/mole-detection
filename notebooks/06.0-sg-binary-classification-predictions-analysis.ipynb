{
 "cells": [
  {
   "cell_type": "markdown",
   "id": "b2749635-f219-43fb-943b-af385bf29c8f",
   "metadata": {},
   "source": [
    "# Binary Classification Results Evaluation"
   ]
  },
  {
   "cell_type": "code",
   "execution_count": null,
   "id": "14014c1c-3168-42f2-94c0-b725c0a2ef09",
   "metadata": {},
   "outputs": [],
   "source": [
    "from pathlib import Path\n",
    "import seaborn as sn\n",
    "import os\n",
    "import sys\n",
    "sys.path.append(str(Path.cwd().parent))\n",
    "from src.utils.gcs_utils import set_environement_variable\n",
    "from sklearn.linear_model import LinearRegression\n",
    "from sklearn.calibration import calibration_curve\n",
    "from sklearn.metrics import classification_report\n",
    "import matplotlib.pyplot as plt\n",
    "\n",
    "is_env_variables_set = set_environement_variable()\n",
    "os.environ[\"GOOGLE_APPLICATION_CREDENTIALS\"] = 'path to auth.json file'\n",
    "\n",
    "from src.utils import envs \n",
    "e=envs.Envs()\n",
    "\n",
    "import numpy as np\n",
    "import pandas as pd\n",
    "import matplotlib.pyplot as plt\n",
    "from sklearn.metrics import confusion_matrix"
   ]
  },
  {
   "cell_type": "markdown",
   "id": "b1acec71-6652-4d49-83b3-a707c52dfa21",
   "metadata": {},
   "source": [
    "# 1.  Read Test Predictions"
   ]
  },
  {
   "cell_type": "code",
   "execution_count": 139,
   "id": "89b1388d-2a45-4cd0-af30-9416d332a1fb",
   "metadata": {},
   "outputs": [
    {
     "name": "stdout",
     "output_type": "stream",
     "text": [
      "There are 1209 images in the test set.\n"
     ]
    },
    {
     "data": {
      "text/html": [
       "<div>\n",
       "<style scoped>\n",
       "    .dataframe tbody tr th:only-of-type {\n",
       "        vertical-align: middle;\n",
       "    }\n",
       "\n",
       "    .dataframe tbody tr th {\n",
       "        vertical-align: top;\n",
       "    }\n",
       "\n",
       "    .dataframe thead th {\n",
       "        text-align: right;\n",
       "    }\n",
       "</style>\n",
       "<table border=\"1\" class=\"dataframe\">\n",
       "  <thead>\n",
       "    <tr style=\"text-align: right;\">\n",
       "      <th></th>\n",
       "      <th>prob_acne</th>\n",
       "      <th>prob_not_acne</th>\n",
       "      <th>filename</th>\n",
       "      <th>label</th>\n",
       "      <th>predicted</th>\n",
       "      <th>preds</th>\n",
       "    </tr>\n",
       "  </thead>\n",
       "  <tbody>\n",
       "    <tr>\n",
       "      <th>0</th>\n",
       "      <td>0.000297</td>\n",
       "      <td>9.997033e-01</td>\n",
       "      <td>resized/13434/09CBF5519C/ailment_photos/AP-a0a...</td>\n",
       "      <td>not_acne</td>\n",
       "      <td>not_acne</td>\n",
       "      <td>1</td>\n",
       "    </tr>\n",
       "    <tr>\n",
       "      <th>1</th>\n",
       "      <td>1.000000</td>\n",
       "      <td>2.358981e-09</td>\n",
       "      <td>resized/18110/B0403BD7DA/ailment_photos/AP-4b2...</td>\n",
       "      <td>acne</td>\n",
       "      <td>acne</td>\n",
       "      <td>0</td>\n",
       "    </tr>\n",
       "    <tr>\n",
       "      <th>2</th>\n",
       "      <td>0.997596</td>\n",
       "      <td>2.404374e-03</td>\n",
       "      <td>resized/11743/DDBE4149CB/ailment_photos/AP-f72...</td>\n",
       "      <td>acne</td>\n",
       "      <td>acne</td>\n",
       "      <td>0</td>\n",
       "    </tr>\n",
       "    <tr>\n",
       "      <th>3</th>\n",
       "      <td>1.000000</td>\n",
       "      <td>1.111982e-08</td>\n",
       "      <td>resized/12173/443392F288/ailment_photos/AP-29e...</td>\n",
       "      <td>acne</td>\n",
       "      <td>acne</td>\n",
       "      <td>0</td>\n",
       "    </tr>\n",
       "    <tr>\n",
       "      <th>4</th>\n",
       "      <td>0.000003</td>\n",
       "      <td>9.999974e-01</td>\n",
       "      <td>resized/14964/8A1D4DFAFE/files/BCAEDC678E64453...</td>\n",
       "      <td>not_acne</td>\n",
       "      <td>not_acne</td>\n",
       "      <td>1</td>\n",
       "    </tr>\n",
       "  </tbody>\n",
       "</table>\n",
       "</div>"
      ],
      "text/plain": [
       "   prob_acne  prob_not_acne  \\\n",
       "0   0.000297   9.997033e-01   \n",
       "1   1.000000   2.358981e-09   \n",
       "2   0.997596   2.404374e-03   \n",
       "3   1.000000   1.111982e-08   \n",
       "4   0.000003   9.999974e-01   \n",
       "\n",
       "                                            filename     label predicted  \\\n",
       "0  resized/13434/09CBF5519C/ailment_photos/AP-a0a...  not_acne  not_acne   \n",
       "1  resized/18110/B0403BD7DA/ailment_photos/AP-4b2...      acne      acne   \n",
       "2  resized/11743/DDBE4149CB/ailment_photos/AP-f72...      acne      acne   \n",
       "3  resized/12173/443392F288/ailment_photos/AP-29e...      acne      acne   \n",
       "4  resized/14964/8A1D4DFAFE/files/BCAEDC678E64453...  not_acne  not_acne   \n",
       "\n",
       "   preds  \n",
       "0      1  \n",
       "1      0  \n",
       "2      0  \n",
       "3      0  \n",
       "4      1  "
      ]
     },
     "execution_count": 139,
     "metadata": {},
     "output_type": "execute_result"
    }
   ],
   "source": [
    "#df_preds = pd.read_csv('gs://oro-ds-test-bucket/sdd_acne_files/mlflow_prod/3a996e334b794ccfa60bb110e63e0be2/artifacts/files/bit-ResNetV2-test_predictions.csv')\n",
    "df_preds= pd.read_csv('bit-5-test_predictions.csv')\n",
    "print(f'There are {df_preds.shape[0]} images in the test set.')\n",
    "df_preds.head()"
   ]
  },
  {
   "cell_type": "code",
   "execution_count": 140,
   "id": "a62e8852-f7fd-4f07-8a76-78c55ac5c9dc",
   "metadata": {},
   "outputs": [
    {
     "data": {
      "text/plain": [
       "not_acne    609\n",
       "acne        600\n",
       "Name: label, dtype: int64"
      ]
     },
     "execution_count": 140,
     "metadata": {},
     "output_type": "execute_result"
    }
   ],
   "source": [
    "df_preds['label'].value_counts()"
   ]
  },
  {
   "cell_type": "code",
   "execution_count": 141,
   "id": "b1d9c203-9540-46f6-8fa9-450db12bd5b1",
   "metadata": {},
   "outputs": [
    {
     "data": {
      "text/html": [
       "<div>\n",
       "<style scoped>\n",
       "    .dataframe tbody tr th:only-of-type {\n",
       "        vertical-align: middle;\n",
       "    }\n",
       "\n",
       "    .dataframe tbody tr th {\n",
       "        vertical-align: top;\n",
       "    }\n",
       "\n",
       "    .dataframe thead th {\n",
       "        text-align: right;\n",
       "    }\n",
       "</style>\n",
       "<table border=\"1\" class=\"dataframe\">\n",
       "  <thead>\n",
       "    <tr style=\"text-align: right;\">\n",
       "      <th></th>\n",
       "      <th>Unnamed: 0</th>\n",
       "      <th>filename</th>\n",
       "      <th>labelledby</th>\n",
       "      <th>reviewedby</th>\n",
       "      <th>acne_comedos</th>\n",
       "      <th>acne_cystic</th>\n",
       "      <th>acne_mixed</th>\n",
       "      <th>acne_scars</th>\n",
       "      <th>acne_excoriated</th>\n",
       "      <th>rosacea_erythemato_telangiectasique</th>\n",
       "      <th>...</th>\n",
       "      <th>keratosis_pilaris</th>\n",
       "      <th>molluscum</th>\n",
       "      <th>folliculitis</th>\n",
       "      <th>melanonychia</th>\n",
       "      <th>nevus</th>\n",
       "      <th>lichen_planus</th>\n",
       "      <th>chelitis_actinic</th>\n",
       "      <th>cheilitis_eczematous</th>\n",
       "      <th>urticaria</th>\n",
       "      <th>unspecified</th>\n",
       "    </tr>\n",
       "  </thead>\n",
       "  <tbody>\n",
       "    <tr>\n",
       "      <th>0</th>\n",
       "      <td>0</td>\n",
       "      <td>resized/7830/646B3FD8EE/ailment_photos/AP-c1bb...</td>\n",
       "      <td>Guillemette Salomon</td>\n",
       "      <td>NaN</td>\n",
       "      <td>False</td>\n",
       "      <td>False</td>\n",
       "      <td>False</td>\n",
       "      <td>False</td>\n",
       "      <td>False</td>\n",
       "      <td>False</td>\n",
       "      <td>...</td>\n",
       "      <td>False</td>\n",
       "      <td>False</td>\n",
       "      <td>False</td>\n",
       "      <td>False</td>\n",
       "      <td>False</td>\n",
       "      <td>False</td>\n",
       "      <td>False</td>\n",
       "      <td>False</td>\n",
       "      <td>False</td>\n",
       "      <td>False</td>\n",
       "    </tr>\n",
       "    <tr>\n",
       "      <th>1</th>\n",
       "      <td>1</td>\n",
       "      <td>resized/9369/005F4BC9BC/ailment_photos/AP-231d...</td>\n",
       "      <td>Guillemette Salomon</td>\n",
       "      <td>NaN</td>\n",
       "      <td>False</td>\n",
       "      <td>False</td>\n",
       "      <td>False</td>\n",
       "      <td>False</td>\n",
       "      <td>False</td>\n",
       "      <td>False</td>\n",
       "      <td>...</td>\n",
       "      <td>False</td>\n",
       "      <td>False</td>\n",
       "      <td>False</td>\n",
       "      <td>False</td>\n",
       "      <td>False</td>\n",
       "      <td>False</td>\n",
       "      <td>False</td>\n",
       "      <td>False</td>\n",
       "      <td>False</td>\n",
       "      <td>True</td>\n",
       "    </tr>\n",
       "    <tr>\n",
       "      <th>2</th>\n",
       "      <td>2</td>\n",
       "      <td>resized/936/E617F7DF5F/ailment_photos/AP-cc6f0...</td>\n",
       "      <td>Guillemette Salomon</td>\n",
       "      <td>NaN</td>\n",
       "      <td>False</td>\n",
       "      <td>False</td>\n",
       "      <td>False</td>\n",
       "      <td>False</td>\n",
       "      <td>False</td>\n",
       "      <td>False</td>\n",
       "      <td>...</td>\n",
       "      <td>False</td>\n",
       "      <td>False</td>\n",
       "      <td>False</td>\n",
       "      <td>False</td>\n",
       "      <td>False</td>\n",
       "      <td>False</td>\n",
       "      <td>False</td>\n",
       "      <td>False</td>\n",
       "      <td>False</td>\n",
       "      <td>False</td>\n",
       "    </tr>\n",
       "    <tr>\n",
       "      <th>3</th>\n",
       "      <td>3</td>\n",
       "      <td>resized/9716/7C41A121CF/ailment_photos/AP-5643...</td>\n",
       "      <td>Guillemette Salomon</td>\n",
       "      <td>NaN</td>\n",
       "      <td>False</td>\n",
       "      <td>False</td>\n",
       "      <td>False</td>\n",
       "      <td>False</td>\n",
       "      <td>False</td>\n",
       "      <td>False</td>\n",
       "      <td>...</td>\n",
       "      <td>False</td>\n",
       "      <td>False</td>\n",
       "      <td>False</td>\n",
       "      <td>False</td>\n",
       "      <td>False</td>\n",
       "      <td>False</td>\n",
       "      <td>False</td>\n",
       "      <td>False</td>\n",
       "      <td>False</td>\n",
       "      <td>True</td>\n",
       "    </tr>\n",
       "    <tr>\n",
       "      <th>4</th>\n",
       "      <td>4</td>\n",
       "      <td>resized/9718/BF893BCA47/ailment_photos/AP-0743...</td>\n",
       "      <td>Guillemette Salomon</td>\n",
       "      <td>NaN</td>\n",
       "      <td>False</td>\n",
       "      <td>False</td>\n",
       "      <td>False</td>\n",
       "      <td>False</td>\n",
       "      <td>False</td>\n",
       "      <td>False</td>\n",
       "      <td>...</td>\n",
       "      <td>False</td>\n",
       "      <td>False</td>\n",
       "      <td>False</td>\n",
       "      <td>False</td>\n",
       "      <td>False</td>\n",
       "      <td>False</td>\n",
       "      <td>False</td>\n",
       "      <td>False</td>\n",
       "      <td>False</td>\n",
       "      <td>True</td>\n",
       "    </tr>\n",
       "  </tbody>\n",
       "</table>\n",
       "<p>5 rows × 53 columns</p>\n",
       "</div>"
      ],
      "text/plain": [
       "   Unnamed: 0                                           filename  \\\n",
       "0           0  resized/7830/646B3FD8EE/ailment_photos/AP-c1bb...   \n",
       "1           1  resized/9369/005F4BC9BC/ailment_photos/AP-231d...   \n",
       "2           2  resized/936/E617F7DF5F/ailment_photos/AP-cc6f0...   \n",
       "3           3  resized/9716/7C41A121CF/ailment_photos/AP-5643...   \n",
       "4           4  resized/9718/BF893BCA47/ailment_photos/AP-0743...   \n",
       "\n",
       "            labelledby  reviewedby  acne_comedos  acne_cystic  acne_mixed  \\\n",
       "0  Guillemette Salomon         NaN         False        False       False   \n",
       "1  Guillemette Salomon         NaN         False        False       False   \n",
       "2  Guillemette Salomon         NaN         False        False       False   \n",
       "3  Guillemette Salomon         NaN         False        False       False   \n",
       "4  Guillemette Salomon         NaN         False        False       False   \n",
       "\n",
       "   acne_scars  acne_excoriated  rosacea_erythemato_telangiectasique  ...  \\\n",
       "0       False            False                                False  ...   \n",
       "1       False            False                                False  ...   \n",
       "2       False            False                                False  ...   \n",
       "3       False            False                                False  ...   \n",
       "4       False            False                                False  ...   \n",
       "\n",
       "   keratosis_pilaris  molluscum  folliculitis  melanonychia  nevus  \\\n",
       "0              False      False         False         False  False   \n",
       "1              False      False         False         False  False   \n",
       "2              False      False         False         False  False   \n",
       "3              False      False         False         False  False   \n",
       "4              False      False         False         False  False   \n",
       "\n",
       "   lichen_planus  chelitis_actinic  cheilitis_eczematous  urticaria  \\\n",
       "0          False             False                 False      False   \n",
       "1          False             False                 False      False   \n",
       "2          False             False                 False      False   \n",
       "3          False             False                 False      False   \n",
       "4          False             False                 False      False   \n",
       "\n",
       "   unspecified  \n",
       "0        False  \n",
       "1         True  \n",
       "2        False  \n",
       "3         True  \n",
       "4         True  \n",
       "\n",
       "[5 rows x 53 columns]"
      ]
     },
     "execution_count": 141,
     "metadata": {},
     "output_type": "execute_result"
    }
   ],
   "source": [
    "#df_dataset = pd.read_csv('bit-dataset.csv')\n",
    "df_dataset = pd.read_csv('gs://oro-ds-test-bucket/shanel_test/raw_image_paths_from_db.csv')\n",
    "df_dataset.rename(columns={'pathBucketImage':'filename'}, inplace=True)\n",
    "df_dataset['filename'] = 'resized/' + df_dataset['filename'].astype(str)\n",
    "df_dataset.head()"
   ]
  },
  {
   "cell_type": "code",
   "execution_count": 142,
   "id": "c8572fb3-ff8e-4400-a915-50a65ae37f04",
   "metadata": {},
   "outputs": [],
   "source": [
    "df_preds['acne'] =  df_preds['label']=='acne'"
   ]
  },
  {
   "cell_type": "markdown",
   "id": "ea777a34-8060-474c-a934-2efeaeb8e4a7",
   "metadata": {},
   "source": [
    "# 2. Merge Predictions with Disease Types"
   ]
  },
  {
   "cell_type": "code",
   "execution_count": 143,
   "id": "20b6e998-aa72-4184-a802-8e8389fa4eec",
   "metadata": {},
   "outputs": [],
   "source": [
    "columns = ['rosacea_inflammatory','rosacea_erythemato_telangiectasique','peri_oral_dermatitis',\n",
    "                'seborrheic_keratosis','psoriasis_vulgar','seborrheic_dermatitis','nummular_eczema',\n",
    "                'tinea_versicolor','chronic_hand_eczema','vulgar_warts','folliculitis','alopecia_androgenic',\n",
    "                'dyshidrosis','nevus','melasma','alopecia_areata','intertrigo','urticaria','vitiligo','keratosis_pilaris',\n",
    "                'molluscum','cheilitis_eczematous','tinea_corporis','prurigo_nodularis','actinic_keratosis',\n",
    "                'genital_warts','plane_warts','pityriasis_rosae','melanonychia','psoriasis_pustular_palmoplantar',\n",
    "                'granuloma_annulare','psoriasis_guttate','lichen_simplex_chronicus','shingles','herpes_simplex', 'acne_cystic', 'acne_scars', 'acne_mixed', 'acne_excoriated', 'acne_comedos']"
   ]
  },
  {
   "cell_type": "code",
   "execution_count": 144,
   "id": "12894915-1ab0-46d5-8f78-81d2bdafe952",
   "metadata": {},
   "outputs": [],
   "source": [
    "df_preds = df_preds.merge(df_dataset, how='left', on='filename')\n",
    "df_preds['diseases'] = df_preds[columns].apply(lambda x: tuple(df_preds[columns].columns[np.argwhere(x.values== True).flatten()], ), axis=1)"
   ]
  },
  {
   "cell_type": "markdown",
   "id": "74358a98-8dd0-4bdb-88ca-c79ed699e25e",
   "metadata": {},
   "source": [
    "# 3. Analysis of Misclassified Images"
   ]
  },
  {
   "cell_type": "code",
   "execution_count": 145,
   "id": "1b3584d0-ff1e-4c43-abc0-4c81abf6888b",
   "metadata": {},
   "outputs": [],
   "source": [
    "def get_performance_based_confidence(df_preds, label_coln= 'label', pred_coln= 'predicted', \n",
    "                                     prob_acne_coln='prob_acne', prob_not_acne_coln='prob_not_acne', \n",
    "                                     acne_confidence = 0.5, not_acne_confidence = 0.5):\n",
    "    masks = (df_preds[prob_acne_coln] < acne_confidence) & (df_preds[prob_not_acne_coln] < not_acne_confidence)\n",
    "    df_prob =  df_preds.copy()\n",
    "    df_prob = df_prob[~masks]\n",
    "    #print(df_preds[masks])\n",
    "    print(f'test images discarded: {df_preds.shape[0]-df_prob.shape[0]}/{df_preds.shape[0]}')\n",
    "    matrix = confusion_matrix(df_prob[label_coln], df_prob[pred_coln])\n",
    "    index = ['acne', 'not_acne', ]\n",
    "    df_cm = pd.DataFrame(matrix, index=index, columns=index)\n",
    "    f = plt.figure()\n",
    "    sn.heatmap(df_cm, annot=True, fmt='g')\n",
    "    plt.xlabel('Predicted Label')\n",
    "    plt.ylabel('True Label')\n",
    "    print(classification_report(df_prob[label_coln], df_prob[pred_coln], target_names=index, output_dict=False))\n",
    "    return masks"
   ]
  },
  {
   "cell_type": "code",
   "execution_count": 159,
   "id": "ce624032-95e5-4676-91b4-05f1c237cbce",
   "metadata": {},
   "outputs": [
    {
     "name": "stdout",
     "output_type": "stream",
     "text": [
      "test images discarded: 0/1209\n",
      "              precision    recall  f1-score   support\n",
      "\n",
      "        acne       0.95      0.91      0.93       600\n",
      "    not_acne       0.91      0.95      0.93       609\n",
      "\n",
      "    accuracy                           0.93      1209\n",
      "   macro avg       0.93      0.93      0.93      1209\n",
      "weighted avg       0.93      0.93      0.93      1209\n",
      "\n"
     ]
    },
    {
     "data": {
      "image/png": "[encoded data removed]",
      "text/plain": [
       "<Figure size 432x288 with 2 Axes>"
      ]
     },
     "metadata": {
      "needs_background": "light"
     },
     "output_type": "display_data"
    }
   ],
   "source": [
    "_ = get_performance_based_confidence(df_preds, acne_confidence = 0.5, not_acne_confidence = 0.5)"
   ]
  },
  {
   "cell_type": "code",
   "execution_count": 168,
   "id": "83044c76-69ef-4fe6-aedf-93d0275d3d6a",
   "metadata": {},
   "outputs": [
    {
     "name": "stdout",
     "output_type": "stream",
     "text": [
      "test images discarded: 91/1209\n",
      "              precision    recall  f1-score   support\n",
      "\n",
      "        acne       0.97      0.93      0.95       552\n",
      "    not_acne       0.93      0.98      0.95       566\n",
      "\n",
      "    accuracy                           0.95      1118\n",
      "   macro avg       0.95      0.95      0.95      1118\n",
      "weighted avg       0.95      0.95      0.95      1118\n",
      "\n"
     ]
    },
    {
     "data": {
      "image/png": "[encoded data removed]",
      "text/plain": [
       "<Figure size 432x288 with 2 Axes>"
      ]
     },
     "metadata": {
      "needs_background": "light"
     },
     "output_type": "display_data"
    }
   ],
   "source": [
    "masks = get_performance_based_confidence(df_preds, acne_confidence = 0.9, not_acne_confidence = 0.9)"
   ]
  },
  {
   "cell_type": "markdown",
   "id": "5aab4c2a-a698-4c9e-9ed0-7e3846657961",
   "metadata": {},
   "source": [
    "# 4. Calibration"
   ]
  },
  {
   "cell_type": "code",
   "execution_count": 148,
   "id": "bbfe5fbd-ea9f-467a-8db4-24e0a13e5b2e",
   "metadata": {},
   "outputs": [],
   "source": [
    "df_preds['label_int']= df_preds['label'].map({'acne':1, 'not_acne':0})"
   ]
  },
  {
   "cell_type": "code",
   "execution_count": 149,
   "id": "c59b0b7b-2859-4fdf-a40b-f84e3dfd4c94",
   "metadata": {},
   "outputs": [],
   "source": [
    "def calibration_histogram(df_preds, label_coln, prob_coln, step_size = 0.02):\n",
    "    defined_bins = np.arange(0, 1.01, step=step_size)\n",
    "\n",
    "    # discretize the predicted probabilties [0, 1] interval into bins\n",
    "    # pred_prob corresponds to probabilities of the positive class\n",
    "    df_preds['bin_prob'] = pd.cut(x=df_preds[prob_coln], bins=defined_bins)\n",
    "\n",
    "    def get_ratio(x):\n",
    "        total_positives = x.sum()\n",
    "        if total_positives==0:\n",
    "            z = 0\n",
    "        else:\n",
    "            try:\n",
    "                z = total_positives / x.size\n",
    "            except:\n",
    "                z = 0\n",
    "        return z\n",
    "\n",
    "    plt.rcParams.update({'font.size': 12})\n",
    "\n",
    "    plt.figure(figsize=(10,6))\n",
    "    plt.bar(x = defined_bins[:-1],\n",
    "            height = df_preds.groupby('bin_prob')[label_coln].apply(lambda x: get_ratio(x)).values,\n",
    "            width=step_size,\n",
    "            label=\"Model calibration\",\n",
    "            edgecolor=\"white\")\n",
    "\n",
    "    # plt.plot(prob_true,prob_pred, label=\"RMFLP Model calibration\")\n",
    "    plt.plot(np.arange(0, 1.1, 0.1),np.arange(0, 1.1, 0.1) , linestyle=\"--\", color='black', linewidth=3, label=\"Perfectly calibrated\")\n",
    "    plt.title(\"Calibration Histogram\")\n",
    "    plt.legend()\n",
    "    plt.xlabel(\"Mean predicted value\")\n",
    "    plt.ylabel(\"Fraction of positives\")\n",
    "    plt.xlim(xmin=0)\n",
    "\n",
    "    plt.tight_layout()\n",
    "    plt.show()\n",
    "    return defined_bins[:-1], df_preds.groupby('bin_prob')[label_coln].apply(lambda x: get_ratio(x)).values"
   ]
  },
  {
   "cell_type": "code",
   "execution_count": 150,
   "id": "a90e3a03-631b-4595-80e9-896c2fef8560",
   "metadata": {},
   "outputs": [
    {
     "data": {
      "image/png": "[encoded data removed]",
      "text/plain": [
       "<Figure size 720x432 with 1 Axes>"
      ]
     },
     "metadata": {
      "needs_background": "light"
     },
     "output_type": "display_data"
    }
   ],
   "source": [
    "bins, probs = calibration_histogram(df_preds, 'label_int', 'prob_acne', step_size = 0.05)\n"
   ]
  },
  {
   "cell_type": "markdown",
   "id": "79fc5579-44ff-4037-a1e6-c123a436b08e",
   "metadata": {},
   "source": [
    "### Calibration - Fit linear regression\n"
   ]
  },
  {
   "cell_type": "code",
   "execution_count": 151,
   "id": "71f7b3e4-6176-4e43-a906-b94f59ecbd23",
   "metadata": {},
   "outputs": [],
   "source": [
    "reg = LinearRegression().fit(X=np.expand_dims(bins, axis=1), y=probs)"
   ]
  },
  {
   "cell_type": "code",
   "execution_count": 152,
   "id": "73074d08-caa9-4f4f-9a7b-5adb129d6480",
   "metadata": {},
   "outputs": [],
   "source": [
    "df_preds['calibrated_prob_acne'] = reg.predict(np.expand_dims(df_preds['prob_acne'], axis=1))"
   ]
  },
  {
   "cell_type": "code",
   "execution_count": 153,
   "id": "bbdb901d-8581-401b-b11b-bbd752bafa38",
   "metadata": {},
   "outputs": [
    {
     "data": {
      "image/png": "[encoded data removed]",
      "text/plain": [
       "<Figure size 720x432 with 1 Axes>"
      ]
     },
     "metadata": {
      "needs_background": "light"
     },
     "output_type": "display_data"
    }
   ],
   "source": [
    "_, _ = calibration_histogram(df_preds, 'label_int', 'calibrated_prob_acne', step_size = 0.05)"
   ]
  },
  {
   "cell_type": "code",
   "execution_count": 154,
   "id": "9ffe64cf-c448-4b7b-b07f-9552ee6355f4",
   "metadata": {},
   "outputs": [],
   "source": [
    "df_preds['calibrated_prob_acne'] = df_preds['calibrated_prob_acne'].apply(lambda x: 0 if x <0 else (1 if x>1 else x))"
   ]
  },
  {
   "cell_type": "code",
   "execution_count": 155,
   "id": "f3afa2e0-fe87-46af-910e-34a7b3d4b030",
   "metadata": {},
   "outputs": [],
   "source": [
    "df_preds['calibrated_prob_not_acne']= 1- df_preds['calibrated_prob_acne']"
   ]
  },
  {
   "cell_type": "code",
   "execution_count": 156,
   "id": "1ca0c900-7f00-48ac-ae47-ac98168ead65",
   "metadata": {},
   "outputs": [],
   "source": [
    "df_preds['calibrated_predicted'] = df_preds['calibrated_prob_acne'].apply(lambda x: 'acne' if x>0.5 else 'not_acne')"
   ]
  },
  {
   "cell_type": "code",
   "execution_count": 157,
   "id": "93bbef75-f3da-4c5e-a23d-0bdf0c103e90",
   "metadata": {},
   "outputs": [
    {
     "name": "stdout",
     "output_type": "stream",
     "text": [
      "test images discarded: 0/1209\n",
      "              precision    recall  f1-score   support\n",
      "\n",
      "        acne       0.95      0.91      0.93       600\n",
      "    not_acne       0.91      0.95      0.93       609\n",
      "\n",
      "    accuracy                           0.93      1209\n",
      "   macro avg       0.93      0.93      0.93      1209\n",
      "weighted avg       0.93      0.93      0.93      1209\n",
      "\n"
     ]
    },
    {
     "data": {
      "image/png": "[encoded data removed]",
      "text/plain": [
       "<Figure size 432x288 with 2 Axes>"
      ]
     },
     "metadata": {
      "needs_background": "light"
     },
     "output_type": "display_data"
    }
   ],
   "source": [
    "_ = get_performance_based_confidence(df_preds, label_coln= 'label', pred_coln= 'calibrated_predicted',\n",
    "                                     prob_acne_coln='calibrated_prob_acne', prob_not_acne_coln='calibrated_prob_not_acne', \n",
    "                                     acne_confidence = 0.5, not_acne_confidence = 0.5)"
   ]
  },
  {
   "cell_type": "code",
   "execution_count": 158,
   "id": "c70541e6-142d-4d1a-ba9f-3dbedd01cf65",
   "metadata": {},
   "outputs": [
    {
     "name": "stdout",
     "output_type": "stream",
     "text": [
      "test images discarded: 126/1209\n",
      "              precision    recall  f1-score   support\n",
      "\n",
      "        acne       0.98      0.90      0.94       501\n",
      "    not_acne       0.92      0.99      0.95       582\n",
      "\n",
      "    accuracy                           0.95      1083\n",
      "   macro avg       0.95      0.94      0.94      1083\n",
      "weighted avg       0.95      0.95      0.95      1083\n",
      "\n"
     ]
    },
    {
     "data": {
      "image/png": "[encoded data removed]",
      "text/plain": [
       "<Figure size 432x288 with 2 Axes>"
      ]
     },
     "metadata": {
      "needs_background": "light"
     },
     "output_type": "display_data"
    }
   ],
   "source": [
    "_ = get_performance_based_confidence(df_preds, label_coln= 'label', pred_coln= 'calibrated_predicted',\n",
    "                                     prob_acne_coln='calibrated_prob_acne', prob_not_acne_coln='calibrated_prob_not_acne', \n",
    "                                     acne_confidence = 0.83, not_acne_confidence = 0.55)"
   ]
  },
  {
   "cell_type": "code",
   "execution_count": null,
   "id": "e157101d-4aaa-4d9a-b713-7d1123b3e4ac",
   "metadata": {},
   "outputs": [],
   "source": []
  },
  {
   "cell_type": "code",
   "execution_count": null,
   "id": "2b42d1ba-a04e-4717-90f4-01a73fd44368",
   "metadata": {},
   "outputs": [],
   "source": []
  }
 ],
 "metadata": {
  "kernelspec": {
   "display_name": "env_acne",
   "language": "python",
   "name": "env_acne"
  },
  "language_info": {
   "codemirror_mode": {
    "name": "ipython",
    "version": 3
   },
   "file_extension": ".py",
   "mimetype": "text/x-python",
   "name": "python",
   "nbconvert_exporter": "python",
   "pygments_lexer": "ipython3",
   "version": "3.7.9"
  }
 },
 "nbformat": 4,
 "nbformat_minor": 5
}
